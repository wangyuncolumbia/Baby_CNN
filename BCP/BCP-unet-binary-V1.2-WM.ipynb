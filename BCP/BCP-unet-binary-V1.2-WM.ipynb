{
 "cells": [
  {
   "cell_type": "code",
   "execution_count": 1,
   "metadata": {},
   "outputs": [],
   "source": [
    "%matplotlib inline\n",
    "%reload_ext autoreload\n",
    "%autoreload "
   ]
  },
  {
   "cell_type": "code",
   "execution_count": 2,
   "metadata": {},
   "outputs": [],
   "source": [
    "from fastai.conv_learner import *\n",
    "from fastai.dataset import *\n",
    "from fastai.models.resnet import *\n",
    "\n",
    "import json"
   ]
  },
  {
   "cell_type": "code",
   "execution_count": 3,
   "metadata": {},
   "outputs": [],
   "source": [
    "torch.cuda.set_device(0)"
   ]
  },
  {
   "cell_type": "code",
   "execution_count": 4,
   "metadata": {},
   "outputs": [],
   "source": [
    "torch.backends.cudnn.benchmark=True"
   ]
  },
  {
   "cell_type": "markdown",
   "metadata": {},
   "source": [
    "## Data"
   ]
  },
  {
   "cell_type": "code",
   "execution_count": 5,
   "metadata": {},
   "outputs": [],
   "source": [
    "PATH = Path('/home/paperspace/data/Baby_CNN/BCP/Binary')\n",
    "MASKS_FN = 'WM.csv'\n",
    "#Train_FN = 'BCP_training.csv'\n",
    "#META_FN = 'metadata.csv'\n",
    "masks_csv = pd.read_csv(PATH/MASKS_FN)\n",
    "train_csv = [t.replace('label', 'T2') for t in masks_csv['ID']]\n",
    "train_csv = [t.replace('png', 'jpg') for t in train_csv ]\n",
    "\n",
    "I=pd.DataFrame(train_csv,columns=['ID'])  \n",
    "I.to_csv(f'{PATH}/BCP_training.csv')\n",
    "#meta_csv = pd.read_csv(PATH/META_FN)"
   ]
  },
  {
   "cell_type": "code",
   "execution_count": 6,
   "metadata": {},
   "outputs": [],
   "source": [
    "def show_img(im, figsize=None, ax=None, alpha=None):\n",
    "    if not ax: fig,ax = plt.subplots(figsize=figsize)\n",
    "    ax.imshow(im, alpha=alpha)\n",
    "    ax.set_axis_off()\n",
    "    return ax"
   ]
  },
  {
   "cell_type": "code",
   "execution_count": 7,
   "metadata": {},
   "outputs": [],
   "source": [
    "TRAIN_DN = 'T2_Training'\n",
    "MASKS_DN = 'WM'\n",
    "sz = 256\n",
    "bs = 32\n",
    "nw = 8"
   ]
  },
  {
   "cell_type": "code",
   "execution_count": 8,
   "metadata": {},
   "outputs": [],
   "source": [
    "class MatchedFilesDataset(FilesDataset):\n",
    "    def __init__(self, fnames, y, transform, path):\n",
    "        self.y=y\n",
    "        assert(len(fnames)==len(y))\n",
    "        super().__init__(fnames, transform, path)\n",
    "    def get_y(self, i): return open_image(os.path.join(self.path, self.y[i]))\n",
    "    def get_c(self): return 0"
   ]
  },
  {
   "cell_type": "code",
   "execution_count": 9,
   "metadata": {},
   "outputs": [],
   "source": [
    "x_names = np.array([Path(TRAIN_DN)/o for o in train_csv])\n",
    "y_names = np.array([Path(MASKS_DN)/o for o in masks_csv['ID']])"
   ]
  },
  {
   "cell_type": "markdown",
   "metadata": {},
   "source": [
    "###  Here we try a random 20% training dataset instead of fixed number\n",
    "### *The code from lesson1-breeds*"
   ]
  },
  {
   "cell_type": "code",
   "execution_count": 10,
   "metadata": {},
   "outputs": [],
   "source": [
    "n = len(list(open(f'{PATH}/BCP_training.csv'))) - 1 # header is not counted (-1)\n",
    "val_idxs = get_cv_idxs(n) # random 20% data for validation set"
   ]
  },
  {
   "cell_type": "code",
   "execution_count": 11,
   "metadata": {},
   "outputs": [],
   "source": [
    "#val_idxs = list(range(200)) ### here we try a random 20% training dataset instead of fixed number \n",
    "((val_x,trn_x),(val_y,trn_y)) = split_by_idx(val_idxs, x_names, y_names)"
   ]
  },
  {
   "cell_type": "markdown",
   "metadata": {},
   "source": [
    "\n",
    "Fastai provides an easy and effective way to augment your data. Its data augmentation capabilities are stored within [transform.py] (https://becominghuman.ai/data-augmentation-using-fastai-aefa88ca03f1) in the fastai library."
   ]
  },
  {
   "cell_type": "code",
   "execution_count": 12,
   "metadata": {},
   "outputs": [
    {
     "data": {
      "text/plain": [
       "((663,), (165,))"
      ]
     },
     "execution_count": 12,
     "metadata": {},
     "output_type": "execute_result"
    }
   ],
   "source": [
    "trn_x.shape,val_x.shape"
   ]
  },
  {
   "cell_type": "markdown",
   "metadata": {},
   "source": [
    "####  data augmentation parameters experiments "
   ]
  },
  {
   "cell_type": "code",
   "execution_count": 13,
   "metadata": {},
   "outputs": [],
   "source": [
    "aug_tfms = [RandomRotate(4,p=0.7, tfm_y=TfmType.CLASS),\n",
    "            RandomFlip(tfm_y=TfmType.CLASS),\n",
    "            RandomLighting(0.05, 0.05, tfm_y=TfmType.CLASS)]"
   ]
  },
  {
   "cell_type": "code",
   "execution_count": 14,
   "metadata": {},
   "outputs": [],
   "source": [
    "tfms = tfms_from_model(resnet34, sz, crop_type=CropType.NO, tfm_y=TfmType.CLASS, aug_tfms=aug_tfms)\n",
    "datasets = ImageData.get_ds(MatchedFilesDataset, (trn_x,trn_y), (val_x,val_y), tfms, path=PATH)\n",
    "md = ImageData(PATH, datasets, bs, num_workers=16, classes=None)\n",
    "denorm = md.trn_ds.denorm"
   ]
  },
  {
   "cell_type": "code",
   "execution_count": 15,
   "metadata": {},
   "outputs": [
    {
     "data": {
      "text/plain": [
       "PosixPath('T2_Training/subject-1-T2_slice_0099.jpg')"
      ]
     },
     "execution_count": 15,
     "metadata": {},
     "output_type": "execute_result"
    }
   ],
   "source": [
    "md.trn_ds.fnames[0]"
   ]
  },
  {
   "cell_type": "code",
   "execution_count": 16,
   "metadata": {},
   "outputs": [
    {
     "data": {
      "text/plain": [
       "array([PosixPath('WM/subject-1-label_slice_0099.png'), PosixPath('WM/subject-1-label_slice_0100.png'),\n",
       "       PosixPath('WM/subject-1-label_slice_0102.png'), PosixPath('WM/subject-1-label_slice_0103.png'),\n",
       "       PosixPath('WM/subject-1-label_slice_0105.png'), PosixPath('WM/subject-1-label_slice_0107.png'),\n",
       "       PosixPath('WM/subject-1-label_slice_0108.png'), PosixPath('WM/subject-1-label_slice_0110.png'),\n",
       "       PosixPath('WM/subject-1-label_slice_0111.png'), PosixPath('WM/subject-1-label_slice_0112.png'),\n",
       "       PosixPath('WM/subject-1-label_slice_0113.png'), PosixPath('WM/subject-1-label_slice_0114.png'),\n",
       "       PosixPath('WM/subject-1-label_slice_0115.png'), PosixPath('WM/subject-1-label_slice_0116.png'),\n",
       "       PosixPath('WM/subject-1-label_slice_0117.png'), PosixPath('WM/subject-1-label_slice_0118.png'),\n",
       "       PosixPath('WM/subject-1-label_slice_0119.png'), PosixPath('WM/subject-1-label_slice_0120.png'),\n",
       "       PosixPath('WM/subject-1-label_slice_0121.png'), PosixPath('WM/subject-1-label_slice_0123.png'),\n",
       "       PosixPath('WM/subject-1-label_slice_0124.png'), PosixPath('WM/subject-1-label_slice_0125.png'),\n",
       "       PosixPath('WM/subject-1-label_slice_0126.png'), PosixPath('WM/subject-1-label_slice_0127.png'),\n",
       "       PosixPath('WM/subject-1-label_slice_0131.png'), PosixPath('WM/subject-1-label_slice_0133.png'),\n",
       "       PosixPath('WM/subject-1-label_slice_0134.png'), PosixPath('WM/subject-1-label_slice_0135.png'),\n",
       "       PosixPath('WM/subject-1-label_slice_0136.png'), PosixPath('WM/subject-1-label_slice_0137.png'),\n",
       "       PosixPath('WM/subject-1-label_slice_0139.png'), PosixPath('WM/subject-1-label_slice_0140.png'),\n",
       "       PosixPath('WM/subject-1-label_slice_0141.png'), PosixPath('WM/subject-1-label_slice_0142.png'),\n",
       "       PosixPath('WM/subject-1-label_slice_0143.png'), PosixPath('WM/subject-1-label_slice_0144.png'),\n",
       "       PosixPath('WM/subject-1-label_slice_0145.png'), PosixPath('WM/subject-1-label_slice_0146.png'),\n",
       "       PosixPath('WM/subject-1-label_slice_0147.png'), PosixPath('WM/subject-1-label_slice_0149.png'),\n",
       "       PosixPath('WM/subject-1-label_slice_0150.png'), PosixPath('WM/subject-1-label_slice_0151.png'),\n",
       "       PosixPath('WM/subject-1-label_slice_0152.png'), PosixPath('WM/subject-1-label_slice_0154.png'),\n",
       "       PosixPath('WM/subject-1-label_slice_0155.png'), PosixPath('WM/subject-1-label_slice_0156.png'),\n",
       "       PosixPath('WM/subject-1-label_slice_0157.png'), PosixPath('WM/subject-1-label_slice_0158.png'),\n",
       "       PosixPath('WM/subject-1-label_slice_0159.png'), PosixPath('WM/subject-1-label_slice_0160.png'),\n",
       "       PosixPath('WM/subject-1-label_slice_0161.png'), PosixPath('WM/subject-1-label_slice_0163.png'),\n",
       "       PosixPath('WM/subject-1-label_slice_0167.png'), PosixPath('WM/subject-1-label_slice_0168.png'),\n",
       "       PosixPath('WM/subject-1-label_slice_0169.png'), PosixPath('WM/subject-1-label_slice_0170.png'),\n",
       "       PosixPath('WM/subject-1-label_slice_0172.png'), PosixPath('WM/subject-1-label_slice_0173.png'),\n",
       "       PosixPath('WM/subject-1-label_slice_0174.png'), PosixPath('WM/subject-1-label_slice_0178.png'),\n",
       "       PosixPath('WM/subject-1-label_slice_0179.png'), PosixPath('WM/subject-1-label_slice_0181.png'),\n",
       "       PosixPath('WM/subject-1-label_slice_0182.png'), PosixPath('WM/subject-1-label_slice_0184.png'),\n",
       "       PosixPath('WM/subject-10-label_slice_0114.png'), PosixPath('WM/subject-10-label_slice_0115.png'),\n",
       "       PosixPath('WM/subject-10-label_slice_0116.png'), PosixPath('WM/subject-10-label_slice_0117.png'),\n",
       "       PosixPath('WM/subject-10-label_slice_0118.png'), PosixPath('WM/subject-10-label_slice_0119.png'),\n",
       "       PosixPath('WM/subject-10-label_slice_0120.png'), PosixPath('WM/subject-10-label_slice_0121.png'),\n",
       "       PosixPath('WM/subject-10-label_slice_0122.png'), PosixPath('WM/subject-10-label_slice_0125.png'),\n",
       "       PosixPath('WM/subject-10-label_slice_0126.png'), PosixPath('WM/subject-10-label_slice_0127.png'),\n",
       "       PosixPath('WM/subject-10-label_slice_0129.png'), PosixPath('WM/subject-10-label_slice_0130.png'),\n",
       "       PosixPath('WM/subject-10-label_slice_0131.png'), PosixPath('WM/subject-10-label_slice_0132.png'),\n",
       "       PosixPath('WM/subject-10-label_slice_0133.png'), PosixPath('WM/subject-10-label_slice_0134.png'),\n",
       "       PosixPath('WM/subject-10-label_slice_0135.png'), PosixPath('WM/subject-10-label_slice_0138.png'),\n",
       "       PosixPath('WM/subject-10-label_slice_0139.png'), PosixPath('WM/subject-10-label_slice_0140.png'),\n",
       "       PosixPath('WM/subject-10-label_slice_0141.png'), PosixPath('WM/subject-10-label_slice_0142.png'),\n",
       "       PosixPath('WM/subject-10-label_slice_0143.png'), PosixPath('WM/subject-10-label_slice_0144.png'),\n",
       "       PosixPath('WM/subject-10-label_slice_0146.png'), PosixPath('WM/subject-10-label_slice_0148.png'),\n",
       "       PosixPath('WM/subject-10-label_slice_0149.png'), PosixPath('WM/subject-10-label_slice_0150.png'),\n",
       "       PosixPath('WM/subject-10-label_slice_0151.png'), PosixPath('WM/subject-10-label_slice_0152.png'),\n",
       "       PosixPath('WM/subject-10-label_slice_0153.png'), PosixPath('WM/subject-10-label_slice_0154.png'),\n",
       "       PosixPath('WM/subject-10-label_slice_0155.png'), PosixPath('WM/subject-10-label_slice_0156.png'),\n",
       "       PosixPath('WM/subject-10-label_slice_0157.png'), PosixPath('WM/subject-10-label_slice_0158.png'),\n",
       "       PosixPath('WM/subject-10-label_slice_0159.png'), PosixPath('WM/subject-10-label_slice_0160.png'),\n",
       "       PosixPath('WM/subject-10-label_slice_0161.png'), PosixPath('WM/subject-10-label_slice_0162.png'),\n",
       "       PosixPath('WM/subject-10-label_slice_0163.png'), PosixPath('WM/subject-10-label_slice_0165.png'),\n",
       "       PosixPath('WM/subject-10-label_slice_0167.png'), PosixPath('WM/subject-10-label_slice_0168.png'),\n",
       "       PosixPath('WM/subject-10-label_slice_0169.png'), PosixPath('WM/subject-10-label_slice_0170.png'),\n",
       "       PosixPath('WM/subject-10-label_slice_0171.png'), PosixPath('WM/subject-10-label_slice_0172.png'),\n",
       "       PosixPath('WM/subject-10-label_slice_0173.png'), PosixPath('WM/subject-10-label_slice_0174.png'),\n",
       "       PosixPath('WM/subject-10-label_slice_0175.png'), PosixPath('WM/subject-10-label_slice_0176.png'),\n",
       "       PosixPath('WM/subject-10-label_slice_0177.png'), PosixPath('WM/subject-10-label_slice_0178.png'),\n",
       "       PosixPath('WM/subject-10-label_slice_0179.png'), PosixPath('WM/subject-10-label_slice_0180.png'),\n",
       "       PosixPath('WM/subject-10-label_slice_0181.png'), PosixPath('WM/subject-10-label_slice_0183.png'),\n",
       "       PosixPath('WM/subject-10-label_slice_0184.png'), PosixPath('WM/subject-10-label_slice_0185.png'),\n",
       "       PosixPath('WM/subject-10-label_slice_0186.png'), PosixPath('WM/subject-10-label_slice_0187.png'),\n",
       "       PosixPath('WM/subject-2-label_slice_0104.png'), PosixPath('WM/subject-2-label_slice_0105.png'),\n",
       "       PosixPath('WM/subject-2-label_slice_0106.png'), PosixPath('WM/subject-2-label_slice_0107.png'),\n",
       "       PosixPath('WM/subject-2-label_slice_0108.png'), PosixPath('WM/subject-2-label_slice_0109.png'),\n",
       "       PosixPath('WM/subject-2-label_slice_0110.png'), PosixPath('WM/subject-2-label_slice_0112.png'),\n",
       "       PosixPath('WM/subject-2-label_slice_0113.png'), PosixPath('WM/subject-2-label_slice_0114.png'),\n",
       "       PosixPath('WM/subject-2-label_slice_0115.png'), PosixPath('WM/subject-2-label_slice_0116.png'),\n",
       "       PosixPath('WM/subject-2-label_slice_0118.png'), PosixPath('WM/subject-2-label_slice_0119.png'),\n",
       "       PosixPath('WM/subject-2-label_slice_0120.png'), PosixPath('WM/subject-2-label_slice_0121.png'),\n",
       "       PosixPath('WM/subject-2-label_slice_0122.png'), PosixPath('WM/subject-2-label_slice_0123.png'),\n",
       "       PosixPath('WM/subject-2-label_slice_0124.png'), PosixPath('WM/subject-2-label_slice_0125.png'),\n",
       "       PosixPath('WM/subject-2-label_slice_0126.png'), PosixPath('WM/subject-2-label_slice_0127.png'),\n",
       "       PosixPath('WM/subject-2-label_slice_0128.png'), PosixPath('WM/subject-2-label_slice_0129.png'),\n",
       "       PosixPath('WM/subject-2-label_slice_0130.png'), PosixPath('WM/subject-2-label_slice_0131.png'),\n",
       "       PosixPath('WM/subject-2-label_slice_0132.png'), PosixPath('WM/subject-2-label_slice_0133.png'),\n",
       "       PosixPath('WM/subject-2-label_slice_0134.png'), PosixPath('WM/subject-2-label_slice_0136.png'),\n",
       "       PosixPath('WM/subject-2-label_slice_0137.png'), PosixPath('WM/subject-2-label_slice_0138.png'),\n",
       "       PosixPath('WM/subject-2-label_slice_0139.png'), PosixPath('WM/subject-2-label_slice_0140.png'),\n",
       "       PosixPath('WM/subject-2-label_slice_0141.png'), PosixPath('WM/subject-2-label_slice_0143.png'),\n",
       "       PosixPath('WM/subject-2-label_slice_0144.png'), PosixPath('WM/subject-2-label_slice_0145.png'),\n",
       "       PosixPath('WM/subject-2-label_slice_0146.png'), PosixPath('WM/subject-2-label_slice_0148.png'),\n",
       "       PosixPath('WM/subject-2-label_slice_0149.png'), PosixPath('WM/subject-2-label_slice_0150.png'),\n",
       "       PosixPath('WM/subject-2-label_slice_0152.png'), PosixPath('WM/subject-2-label_slice_0156.png'),\n",
       "       PosixPath('WM/subject-2-label_slice_0157.png'), PosixPath('WM/subject-2-label_slice_0159.png'),\n",
       "       PosixPath('WM/subject-2-label_slice_0160.png'), PosixPath('WM/subject-2-label_slice_0162.png'),\n",
       "       PosixPath('WM/subject-2-label_slice_0163.png'), PosixPath('WM/subject-2-label_slice_0164.png'),\n",
       "       PosixPath('WM/subject-2-label_slice_0165.png'), PosixPath('WM/subject-2-label_slice_0166.png'),\n",
       "       PosixPath('WM/subject-2-label_slice_0167.png'), PosixPath('WM/subject-2-label_slice_0168.png'),\n",
       "       PosixPath('WM/subject-2-label_slice_0169.png'), PosixPath('WM/subject-2-label_slice_0170.png'),\n",
       "       PosixPath('WM/subject-2-label_slice_0171.png'), PosixPath('WM/subject-2-label_slice_0172.png'),\n",
       "       PosixPath('WM/subject-2-label_slice_0173.png'), PosixPath('WM/subject-2-label_slice_0175.png'),\n",
       "       PosixPath('WM/subject-2-label_slice_0176.png'), PosixPath('WM/subject-2-label_slice_0177.png'),\n",
       "       PosixPath('WM/subject-2-label_slice_0178.png'), PosixPath('WM/subject-2-label_slice_0179.png'),\n",
       "       PosixPath('WM/subject-2-label_slice_0180.png'), PosixPath('WM/subject-2-label_slice_0181.png'),\n",
       "       PosixPath('WM/subject-2-label_slice_0183.png'), PosixPath('WM/subject-2-label_slice_0184.png'),\n",
       "       PosixPath('WM/subject-3-label_slice_0102.png'), PosixPath('WM/subject-3-label_slice_0103.png'),\n",
       "       PosixPath('WM/subject-3-label_slice_0105.png'), PosixPath('WM/subject-3-label_slice_0106.png'),\n",
       "       PosixPath('WM/subject-3-label_slice_0108.png'), PosixPath('WM/subject-3-label_slice_0109.png'),\n",
       "       PosixPath('WM/subject-3-label_slice_0111.png'), PosixPath('WM/subject-3-label_slice_0112.png'),\n",
       "       PosixPath('WM/subject-3-label_slice_0113.png'), PosixPath('WM/subject-3-label_slice_0115.png'),\n",
       "       PosixPath('WM/subject-3-label_slice_0116.png'), PosixPath('WM/subject-3-label_slice_0117.png'),\n",
       "       PosixPath('WM/subject-3-label_slice_0118.png'), PosixPath('WM/subject-3-label_slice_0121.png'),\n",
       "       PosixPath('WM/subject-3-label_slice_0122.png'), PosixPath('WM/subject-3-label_slice_0123.png'),\n",
       "       PosixPath('WM/subject-3-label_slice_0124.png'), PosixPath('WM/subject-3-label_slice_0127.png'),\n",
       "       PosixPath('WM/subject-3-label_slice_0128.png'), PosixPath('WM/subject-3-label_slice_0129.png'),\n",
       "       PosixPath('WM/subject-3-label_slice_0130.png'), PosixPath('WM/subject-3-label_slice_0131.png'),\n",
       "       PosixPath('WM/subject-3-label_slice_0132.png'), PosixPath('WM/subject-3-label_slice_0133.png'),\n",
       "       PosixPath('WM/subject-3-label_slice_0134.png'), PosixPath('WM/subject-3-label_slice_0135.png'),\n",
       "       PosixPath('WM/subject-3-label_slice_0136.png'), PosixPath('WM/subject-3-label_slice_0137.png'),\n",
       "       PosixPath('WM/subject-3-label_slice_0138.png'), PosixPath('WM/subject-3-label_slice_0139.png'),\n",
       "       PosixPath('WM/subject-3-label_slice_0140.png'), PosixPath('WM/subject-3-label_slice_0141.png'),\n",
       "       PosixPath('WM/subject-3-label_slice_0142.png'), PosixPath('WM/subject-3-label_slice_0143.png'),\n",
       "       PosixPath('WM/subject-3-label_slice_0144.png'), PosixPath('WM/subject-3-label_slice_0145.png'),\n",
       "       PosixPath('WM/subject-3-label_slice_0146.png'), PosixPath('WM/subject-3-label_slice_0147.png'),\n",
       "       PosixPath('WM/subject-3-label_slice_0148.png'), PosixPath('WM/subject-3-label_slice_0149.png'),\n",
       "       PosixPath('WM/subject-3-label_slice_0153.png'), PosixPath('WM/subject-3-label_slice_0154.png'),\n",
       "       PosixPath('WM/subject-3-label_slice_0155.png'), PosixPath('WM/subject-3-label_slice_0157.png'),\n",
       "       PosixPath('WM/subject-3-label_slice_0158.png'), PosixPath('WM/subject-3-label_slice_0159.png'),\n",
       "       PosixPath('WM/subject-3-label_slice_0161.png'), PosixPath('WM/subject-3-label_slice_0162.png'),\n",
       "       PosixPath('WM/subject-3-label_slice_0163.png'), PosixPath('WM/subject-3-label_slice_0164.png'),\n",
       "       PosixPath('WM/subject-3-label_slice_0165.png'), PosixPath('WM/subject-3-label_slice_0166.png'),\n",
       "       PosixPath('WM/subject-3-label_slice_0167.png'), PosixPath('WM/subject-3-label_slice_0168.png'),\n",
       "       PosixPath('WM/subject-3-label_slice_0169.png'), PosixPath('WM/subject-3-label_slice_0170.png'),\n",
       "       PosixPath('WM/subject-3-label_slice_0171.png'), PosixPath('WM/subject-3-label_slice_0172.png'),\n",
       "       PosixPath('WM/subject-3-label_slice_0173.png'), PosixPath('WM/subject-3-label_slice_0174.png'),\n",
       "       PosixPath('WM/subject-3-label_slice_0175.png'), PosixPath('WM/subject-3-label_slice_0177.png'),\n",
       "       PosixPath('WM/subject-3-label_slice_0178.png'), PosixPath('WM/subject-3-label_slice_0180.png'),\n",
       "       PosixPath('WM/subject-3-label_slice_0181.png'), PosixPath('WM/subject-3-label_slice_0182.png'),\n",
       "       PosixPath('WM/subject-3-label_slice_0183.png'), PosixPath('WM/subject-3-label_slice_0184.png'),\n",
       "       PosixPath('WM/subject-3-label_slice_0185.png'), PosixPath('WM/subject-3-label_slice_0186.png'),\n",
       "       PosixPath('WM/subject-3-label_slice_0187.png'), PosixPath('WM/subject-3-label_slice_0188.png'),\n",
       "       PosixPath('WM/subject-4-label_slice_0110.png'), PosixPath('WM/subject-4-label_slice_0112.png'),\n",
       "       PosixPath('WM/subject-4-label_slice_0113.png'), PosixPath('WM/subject-4-label_slice_0114.png'),\n",
       "       PosixPath('WM/subject-4-label_slice_0115.png'), PosixPath('WM/subject-4-label_slice_0117.png'),\n",
       "       PosixPath('WM/subject-4-label_slice_0118.png'), PosixPath('WM/subject-4-label_slice_0119.png'),\n",
       "       PosixPath('WM/subject-4-label_slice_0120.png'), PosixPath('WM/subject-4-label_slice_0121.png'),\n",
       "       PosixPath('WM/subject-4-label_slice_0123.png'), PosixPath('WM/subject-4-label_slice_0124.png'),\n",
       "       PosixPath('WM/subject-4-label_slice_0125.png'), PosixPath('WM/subject-4-label_slice_0126.png'),\n",
       "       PosixPath('WM/subject-4-label_slice_0127.png'), PosixPath('WM/subject-4-label_slice_0128.png'),\n",
       "       PosixPath('WM/subject-4-label_slice_0129.png'), PosixPath('WM/subject-4-label_slice_0130.png'),\n",
       "       PosixPath('WM/subject-4-label_slice_0131.png'), PosixPath('WM/subject-4-label_slice_0133.png'),\n",
       "       PosixPath('WM/subject-4-label_slice_0134.png'), PosixPath('WM/subject-4-label_slice_0138.png'),\n",
       "       PosixPath('WM/subject-4-label_slice_0139.png'), PosixPath('WM/subject-4-label_slice_0140.png'),\n",
       "       PosixPath('WM/subject-4-label_slice_0143.png'), PosixPath('WM/subject-4-label_slice_0144.png'),\n",
       "       PosixPath('WM/subject-4-label_slice_0146.png'), PosixPath('WM/subject-4-label_slice_0147.png'),\n",
       "       PosixPath('WM/subject-4-label_slice_0149.png'), PosixPath('WM/subject-4-label_slice_0150.png'),\n",
       "       PosixPath('WM/subject-4-label_slice_0151.png'), PosixPath('WM/subject-4-label_slice_0152.png'),\n",
       "       PosixPath('WM/subject-4-label_slice_0153.png'), PosixPath('WM/subject-4-label_slice_0154.png'),\n",
       "       PosixPath('WM/subject-4-label_slice_0155.png'), PosixPath('WM/subject-4-label_slice_0156.png'),\n",
       "       PosixPath('WM/subject-4-label_slice_0158.png'), PosixPath('WM/subject-4-label_slice_0159.png'),\n",
       "       PosixPath('WM/subject-4-label_slice_0160.png'), PosixPath('WM/subject-4-label_slice_0162.png'),\n",
       "       PosixPath('WM/subject-4-label_slice_0164.png'), PosixPath('WM/subject-4-label_slice_0165.png'),\n",
       "       PosixPath('WM/subject-4-label_slice_0166.png'), PosixPath('WM/subject-4-label_slice_0167.png'),\n",
       "       PosixPath('WM/subject-4-label_slice_0168.png'), PosixPath('WM/subject-4-label_slice_0169.png'),\n",
       "       PosixPath('WM/subject-4-label_slice_0170.png'), PosixPath('WM/subject-4-label_slice_0171.png'),\n",
       "       PosixPath('WM/subject-4-label_slice_0172.png'), PosixPath('WM/subject-4-label_slice_0173.png'),\n",
       "       PosixPath('WM/subject-4-label_slice_0175.png'), PosixPath('WM/subject-4-label_slice_0176.png'),\n",
       "       PosixPath('WM/subject-4-label_slice_0177.png'), PosixPath('WM/subject-4-label_slice_0178.png'),\n",
       "       PosixPath('WM/subject-4-label_slice_0179.png'), PosixPath('WM/subject-4-label_slice_0180.png'),\n",
       "       PosixPath('WM/subject-4-label_slice_0181.png'), PosixPath('WM/subject-4-label_slice_0182.png'),\n",
       "       PosixPath('WM/subject-4-label_slice_0183.png'), PosixPath('WM/subject-5-label_slice_0104.png'),\n",
       "       PosixPath('WM/subject-5-label_slice_0106.png'), PosixPath('WM/subject-5-label_slice_0107.png'),\n",
       "       PosixPath('WM/subject-5-label_slice_0108.png'), PosixPath('WM/subject-5-label_slice_0109.png'),\n",
       "       PosixPath('WM/subject-5-label_slice_0110.png'), PosixPath('WM/subject-5-label_slice_0113.png'),\n",
       "       PosixPath('WM/subject-5-label_slice_0114.png'), PosixPath('WM/subject-5-label_slice_0115.png'),\n",
       "       PosixPath('WM/subject-5-label_slice_0116.png'), PosixPath('WM/subject-5-label_slice_0118.png'),\n",
       "       PosixPath('WM/subject-5-label_slice_0119.png'), PosixPath('WM/subject-5-label_slice_0121.png'),\n",
       "       PosixPath('WM/subject-5-label_slice_0123.png'), PosixPath('WM/subject-5-label_slice_0124.png'),\n",
       "       PosixPath('WM/subject-5-label_slice_0126.png'), PosixPath('WM/subject-5-label_slice_0127.png'),\n",
       "       PosixPath('WM/subject-5-label_slice_0129.png'), PosixPath('WM/subject-5-label_slice_0130.png'),\n",
       "       PosixPath('WM/subject-5-label_slice_0131.png'), PosixPath('WM/subject-5-label_slice_0133.png'),\n",
       "       PosixPath('WM/subject-5-label_slice_0134.png'), PosixPath('WM/subject-5-label_slice_0135.png'),\n",
       "       PosixPath('WM/subject-5-label_slice_0136.png'), PosixPath('WM/subject-5-label_slice_0137.png'),\n",
       "       PosixPath('WM/subject-5-label_slice_0138.png'), PosixPath('WM/subject-5-label_slice_0139.png'),\n",
       "       PosixPath('WM/subject-5-label_slice_0141.png'), PosixPath('WM/subject-5-label_slice_0143.png'),\n",
       "       PosixPath('WM/subject-5-label_slice_0145.png'), PosixPath('WM/subject-5-label_slice_0146.png'),\n",
       "       PosixPath('WM/subject-5-label_slice_0148.png'), PosixPath('WM/subject-5-label_slice_0149.png'),\n",
       "       PosixPath('WM/subject-5-label_slice_0150.png'), PosixPath('WM/subject-5-label_slice_0152.png'),\n",
       "       PosixPath('WM/subject-5-label_slice_0154.png'), PosixPath('WM/subject-5-label_slice_0155.png'),\n",
       "       PosixPath('WM/subject-5-label_slice_0158.png'), PosixPath('WM/subject-5-label_slice_0159.png'),\n",
       "       PosixPath('WM/subject-5-label_slice_0160.png'), PosixPath('WM/subject-5-label_slice_0161.png'),\n",
       "       PosixPath('WM/subject-5-label_slice_0162.png'), PosixPath('WM/subject-5-label_slice_0163.png'),\n",
       "       PosixPath('WM/subject-5-label_slice_0165.png'), PosixPath('WM/subject-5-label_slice_0166.png'),\n",
       "       PosixPath('WM/subject-5-label_slice_0167.png'), PosixPath('WM/subject-5-label_slice_0168.png'),\n",
       "       PosixPath('WM/subject-5-label_slice_0169.png'), PosixPath('WM/subject-5-label_slice_0170.png'),\n",
       "       PosixPath('WM/subject-5-label_slice_0171.png'), PosixPath('WM/subject-5-label_slice_0172.png'),\n",
       "       PosixPath('WM/subject-5-label_slice_0173.png'), PosixPath('WM/subject-5-label_slice_0174.png'),\n",
       "       PosixPath('WM/subject-5-label_slice_0175.png'), PosixPath('WM/subject-5-label_slice_0176.png'),\n",
       "       PosixPath('WM/subject-5-label_slice_0177.png'), PosixPath('WM/subject-5-label_slice_0178.png'),\n",
       "       PosixPath('WM/subject-5-label_slice_0179.png'), PosixPath('WM/subject-5-label_slice_0180.png'),\n",
       "       PosixPath('WM/subject-5-label_slice_0182.png'), PosixPath('WM/subject-5-label_slice_0183.png'),\n",
       "       PosixPath('WM/subject-5-label_slice_0184.png'), PosixPath('WM/subject-5-label_slice_0186.png'),\n",
       "       PosixPath('WM/subject-5-label_slice_0187.png'), PosixPath('WM/subject-5-label_slice_0188.png'),\n",
       "       PosixPath('WM/subject-5-label_slice_0189.png'), PosixPath('WM/subject-5-label_slice_0190.png'),\n",
       "       PosixPath('WM/subject-6-label_slice_0101.png'), PosixPath('WM/subject-6-label_slice_0102.png'),\n",
       "       PosixPath('WM/subject-6-label_slice_0103.png'), PosixPath('WM/subject-6-label_slice_0104.png'),\n",
       "       PosixPath('WM/subject-6-label_slice_0105.png'), PosixPath('WM/subject-6-label_slice_0106.png'),\n",
       "       PosixPath('WM/subject-6-label_slice_0107.png'), PosixPath('WM/subject-6-label_slice_0108.png'),\n",
       "       PosixPath('WM/subject-6-label_slice_0109.png'), PosixPath('WM/subject-6-label_slice_0110.png'),\n",
       "       PosixPath('WM/subject-6-label_slice_0112.png'), PosixPath('WM/subject-6-label_slice_0113.png'),\n",
       "       PosixPath('WM/subject-6-label_slice_0114.png'), PosixPath('WM/subject-6-label_slice_0115.png'),\n",
       "       PosixPath('WM/subject-6-label_slice_0116.png'), PosixPath('WM/subject-6-label_slice_0117.png'),\n",
       "       PosixPath('WM/subject-6-label_slice_0118.png'), PosixPath('WM/subject-6-label_slice_0119.png'),\n",
       "       PosixPath('WM/subject-6-label_slice_0120.png'), PosixPath('WM/subject-6-label_slice_0121.png'),\n",
       "       PosixPath('WM/subject-6-label_slice_0123.png'), PosixPath('WM/subject-6-label_slice_0124.png'),\n",
       "       PosixPath('WM/subject-6-label_slice_0125.png'), PosixPath('WM/subject-6-label_slice_0126.png'),\n",
       "       PosixPath('WM/subject-6-label_slice_0127.png'), PosixPath('WM/subject-6-label_slice_0128.png'),\n",
       "       PosixPath('WM/subject-6-label_slice_0129.png'), PosixPath('WM/subject-6-label_slice_0130.png'),\n",
       "       PosixPath('WM/subject-6-label_slice_0131.png'), PosixPath('WM/subject-6-label_slice_0132.png'),\n",
       "       PosixPath('WM/subject-6-label_slice_0134.png'), PosixPath('WM/subject-6-label_slice_0135.png'),\n",
       "       PosixPath('WM/subject-6-label_slice_0136.png'), PosixPath('WM/subject-6-label_slice_0140.png'),\n",
       "       PosixPath('WM/subject-6-label_slice_0141.png'), PosixPath('WM/subject-6-label_slice_0142.png'),\n",
       "       PosixPath('WM/subject-6-label_slice_0146.png'), PosixPath('WM/subject-6-label_slice_0148.png'),\n",
       "       PosixPath('WM/subject-6-label_slice_0150.png'), PosixPath('WM/subject-6-label_slice_0151.png'),\n",
       "       PosixPath('WM/subject-6-label_slice_0152.png'), PosixPath('WM/subject-6-label_slice_0155.png'),\n",
       "       PosixPath('WM/subject-6-label_slice_0156.png'), PosixPath('WM/subject-6-label_slice_0157.png'),\n",
       "       PosixPath('WM/subject-6-label_slice_0158.png'), PosixPath('WM/subject-6-label_slice_0159.png'),\n",
       "       PosixPath('WM/subject-6-label_slice_0160.png'), PosixPath('WM/subject-6-label_slice_0162.png'),\n",
       "       PosixPath('WM/subject-6-label_slice_0163.png'), PosixPath('WM/subject-6-label_slice_0164.png'),\n",
       "       PosixPath('WM/subject-6-label_slice_0165.png'), PosixPath('WM/subject-6-label_slice_0166.png'),\n",
       "       PosixPath('WM/subject-6-label_slice_0167.png'), PosixPath('WM/subject-6-label_slice_0169.png'),\n",
       "       PosixPath('WM/subject-6-label_slice_0170.png'), PosixPath('WM/subject-6-label_slice_0171.png'),\n",
       "       PosixPath('WM/subject-6-label_slice_0172.png'), PosixPath('WM/subject-6-label_slice_0173.png'),\n",
       "       PosixPath('WM/subject-6-label_slice_0174.png'), PosixPath('WM/subject-6-label_slice_0175.png'),\n",
       "       PosixPath('WM/subject-6-label_slice_0176.png'), PosixPath('WM/subject-6-label_slice_0177.png'),\n",
       "       PosixPath('WM/subject-6-label_slice_0178.png'), PosixPath('WM/subject-6-label_slice_0179.png'),\n",
       "       PosixPath('WM/subject-6-label_slice_0180.png'), PosixPath('WM/subject-6-label_slice_0181.png'),\n",
       "       PosixPath('WM/subject-6-label_slice_0182.png'), PosixPath('WM/subject-7-label_slice_0100.png'),\n",
       "       PosixPath('WM/subject-7-label_slice_0101.png'), PosixPath('WM/subject-7-label_slice_0102.png'),\n",
       "       PosixPath('WM/subject-7-label_slice_0103.png'), PosixPath('WM/subject-7-label_slice_0104.png'),\n",
       "       PosixPath('WM/subject-7-label_slice_0105.png'), PosixPath('WM/subject-7-label_slice_0106.png'),\n",
       "       PosixPath('WM/subject-7-label_slice_0107.png'), PosixPath('WM/subject-7-label_slice_0108.png'),\n",
       "       PosixPath('WM/subject-7-label_slice_0109.png'), PosixPath('WM/subject-7-label_slice_0111.png'),\n",
       "       PosixPath('WM/subject-7-label_slice_0112.png'), PosixPath('WM/subject-7-label_slice_0113.png'),\n",
       "       PosixPath('WM/subject-7-label_slice_0114.png'), PosixPath('WM/subject-7-label_slice_0115.png'),\n",
       "       PosixPath('WM/subject-7-label_slice_0117.png'), PosixPath('WM/subject-7-label_slice_0118.png'),\n",
       "       PosixPath('WM/subject-7-label_slice_0119.png'), PosixPath('WM/subject-7-label_slice_0120.png'),\n",
       "       PosixPath('WM/subject-7-label_slice_0121.png'), PosixPath('WM/subject-7-label_slice_0122.png'),\n",
       "       PosixPath('WM/subject-7-label_slice_0123.png'), PosixPath('WM/subject-7-label_slice_0124.png'),\n",
       "       PosixPath('WM/subject-7-label_slice_0125.png'), PosixPath('WM/subject-7-label_slice_0126.png'),\n",
       "       PosixPath('WM/subject-7-label_slice_0127.png'), PosixPath('WM/subject-7-label_slice_0128.png'),\n",
       "       PosixPath('WM/subject-7-label_slice_0129.png'), PosixPath('WM/subject-7-label_slice_0130.png'),\n",
       "       PosixPath('WM/subject-7-label_slice_0131.png'), PosixPath('WM/subject-7-label_slice_0133.png'),\n",
       "       PosixPath('WM/subject-7-label_slice_0134.png'), PosixPath('WM/subject-7-label_slice_0136.png'),\n",
       "       PosixPath('WM/subject-7-label_slice_0137.png'), PosixPath('WM/subject-7-label_slice_0138.png'),\n",
       "       PosixPath('WM/subject-7-label_slice_0139.png'), PosixPath('WM/subject-7-label_slice_0141.png'),\n",
       "       PosixPath('WM/subject-7-label_slice_0143.png'), PosixPath('WM/subject-7-label_slice_0144.png'),\n",
       "       PosixPath('WM/subject-7-label_slice_0145.png'), PosixPath('WM/subject-7-label_slice_0146.png'),\n",
       "       PosixPath('WM/subject-7-label_slice_0147.png'), PosixPath('WM/subject-7-label_slice_0150.png'),\n",
       "       PosixPath('WM/subject-7-label_slice_0151.png'), PosixPath('WM/subject-7-label_slice_0152.png'),\n",
       "       PosixPath('WM/subject-7-label_slice_0153.png'), PosixPath('WM/subject-7-label_slice_0154.png'),\n",
       "       PosixPath('WM/subject-7-label_slice_0155.png'), PosixPath('WM/subject-7-label_slice_0157.png'),\n",
       "       PosixPath('WM/subject-7-label_slice_0158.png'), PosixPath('WM/subject-7-label_slice_0159.png'),\n",
       "       PosixPath('WM/subject-7-label_slice_0160.png'), PosixPath('WM/subject-7-label_slice_0161.png'),\n",
       "       PosixPath('WM/subject-7-label_slice_0164.png'), PosixPath('WM/subject-7-label_slice_0165.png'),\n",
       "       PosixPath('WM/subject-7-label_slice_0166.png'), PosixPath('WM/subject-7-label_slice_0167.png'),\n",
       "       PosixPath('WM/subject-7-label_slice_0168.png'), PosixPath('WM/subject-7-label_slice_0169.png'),\n",
       "       PosixPath('WM/subject-7-label_slice_0171.png'), PosixPath('WM/subject-7-label_slice_0172.png'),\n",
       "       PosixPath('WM/subject-7-label_slice_0173.png'), PosixPath('WM/subject-7-label_slice_0174.png'),\n",
       "       PosixPath('WM/subject-7-label_slice_0176.png'), PosixPath('WM/subject-7-label_slice_0178.png'),\n",
       "       PosixPath('WM/subject-7-label_slice_0179.png'), PosixPath('WM/subject-7-label_slice_0180.png'),\n",
       "       PosixPath('WM/subject-7-label_slice_0181.png'), PosixPath('WM/subject-7-label_slice_0182.png'),\n",
       "       PosixPath('WM/subject-7-label_slice_0183.png'), PosixPath('WM/subject-8-label_slice_0105.png'),\n",
       "       PosixPath('WM/subject-8-label_slice_0106.png'), PosixPath('WM/subject-8-label_slice_0108.png'),\n",
       "       PosixPath('WM/subject-8-label_slice_0110.png'), PosixPath('WM/subject-8-label_slice_0111.png'),\n",
       "       PosixPath('WM/subject-8-label_slice_0114.png'), PosixPath('WM/subject-8-label_slice_0115.png'),\n",
       "       PosixPath('WM/subject-8-label_slice_0116.png'), PosixPath('WM/subject-8-label_slice_0117.png'),\n",
       "       PosixPath('WM/subject-8-label_slice_0118.png'), PosixPath('WM/subject-8-label_slice_0119.png'),\n",
       "       PosixPath('WM/subject-8-label_slice_0120.png'), PosixPath('WM/subject-8-label_slice_0121.png'),\n",
       "       PosixPath('WM/subject-8-label_slice_0122.png'), PosixPath('WM/subject-8-label_slice_0125.png'),\n",
       "       PosixPath('WM/subject-8-label_slice_0126.png'), PosixPath('WM/subject-8-label_slice_0128.png'),\n",
       "       PosixPath('WM/subject-8-label_slice_0129.png'), PosixPath('WM/subject-8-label_slice_0130.png'),\n",
       "       PosixPath('WM/subject-8-label_slice_0132.png'), PosixPath('WM/subject-8-label_slice_0133.png'),\n",
       "       PosixPath('WM/subject-8-label_slice_0137.png'), PosixPath('WM/subject-8-label_slice_0138.png'),\n",
       "       PosixPath('WM/subject-8-label_slice_0140.png'), PosixPath('WM/subject-8-label_slice_0141.png'),\n",
       "       PosixPath('WM/subject-8-label_slice_0143.png'), PosixPath('WM/subject-8-label_slice_0144.png'),\n",
       "       PosixPath('WM/subject-8-label_slice_0145.png'), PosixPath('WM/subject-8-label_slice_0146.png'),\n",
       "       PosixPath('WM/subject-8-label_slice_0147.png'), PosixPath('WM/subject-8-label_slice_0148.png'),\n",
       "       PosixPath('WM/subject-8-label_slice_0149.png'), PosixPath('WM/subject-8-label_slice_0150.png'),\n",
       "       PosixPath('WM/subject-8-label_slice_0151.png'), PosixPath('WM/subject-8-label_slice_0152.png'),\n",
       "       PosixPath('WM/subject-8-label_slice_0153.png'), PosixPath('WM/subject-8-label_slice_0154.png'),\n",
       "       PosixPath('WM/subject-8-label_slice_0155.png'), PosixPath('WM/subject-8-label_slice_0157.png'),\n",
       "       PosixPath('WM/subject-8-label_slice_0158.png'), PosixPath('WM/subject-8-label_slice_0159.png'),\n",
       "       PosixPath('WM/subject-8-label_slice_0160.png'), PosixPath('WM/subject-8-label_slice_0161.png'),\n",
       "       PosixPath('WM/subject-8-label_slice_0162.png'), PosixPath('WM/subject-8-label_slice_0163.png'),\n",
       "       PosixPath('WM/subject-8-label_slice_0164.png'), PosixPath('WM/subject-8-label_slice_0165.png'),\n",
       "       PosixPath('WM/subject-8-label_slice_0166.png'), PosixPath('WM/subject-8-label_slice_0167.png'),\n",
       "       PosixPath('WM/subject-8-label_slice_0168.png'), PosixPath('WM/subject-8-label_slice_0170.png'),\n",
       "       PosixPath('WM/subject-8-label_slice_0171.png'), PosixPath('WM/subject-8-label_slice_0172.png'),\n",
       "       PosixPath('WM/subject-8-label_slice_0173.png'), PosixPath('WM/subject-8-label_slice_0174.png'),\n",
       "       PosixPath('WM/subject-8-label_slice_0176.png'), PosixPath('WM/subject-8-label_slice_0177.png'),\n",
       "       PosixPath('WM/subject-8-label_slice_0178.png'), PosixPath('WM/subject-8-label_slice_0180.png'),\n",
       "       PosixPath('WM/subject-8-label_slice_0181.png'), PosixPath('WM/subject-8-label_slice_0182.png'),\n",
       "       PosixPath('WM/subject-8-label_slice_0184.png'), PosixPath('WM/subject-8-label_slice_0186.png'),\n",
       "       PosixPath('WM/subject-8-label_slice_0188.png'), PosixPath('WM/subject-9-label_slice_0108.png'),\n",
       "       PosixPath('WM/subject-9-label_slice_0109.png'), PosixPath('WM/subject-9-label_slice_0110.png'),\n",
       "       PosixPath('WM/subject-9-label_slice_0112.png'), PosixPath('WM/subject-9-label_slice_0113.png'),\n",
       "       PosixPath('WM/subject-9-label_slice_0114.png'), PosixPath('WM/subject-9-label_slice_0115.png'),\n",
       "       PosixPath('WM/subject-9-label_slice_0117.png'), PosixPath('WM/subject-9-label_slice_0118.png'),\n",
       "       PosixPath('WM/subject-9-label_slice_0119.png'), PosixPath('WM/subject-9-label_slice_0120.png'),\n",
       "       PosixPath('WM/subject-9-label_slice_0121.png'), PosixPath('WM/subject-9-label_slice_0122.png'),\n",
       "       PosixPath('WM/subject-9-label_slice_0123.png'), PosixPath('WM/subject-9-label_slice_0125.png'),\n",
       "       PosixPath('WM/subject-9-label_slice_0126.png'), PosixPath('WM/subject-9-label_slice_0127.png'),\n",
       "       PosixPath('WM/subject-9-label_slice_0128.png'), PosixPath('WM/subject-9-label_slice_0129.png'),\n",
       "       PosixPath('WM/subject-9-label_slice_0130.png'), PosixPath('WM/subject-9-label_slice_0131.png'),\n",
       "       PosixPath('WM/subject-9-label_slice_0132.png'), PosixPath('WM/subject-9-label_slice_0133.png'),\n",
       "       PosixPath('WM/subject-9-label_slice_0134.png'), PosixPath('WM/subject-9-label_slice_0135.png'),\n",
       "       PosixPath('WM/subject-9-label_slice_0136.png'), PosixPath('WM/subject-9-label_slice_0137.png'),\n",
       "       PosixPath('WM/subject-9-label_slice_0138.png'), PosixPath('WM/subject-9-label_slice_0139.png'),\n",
       "       PosixPath('WM/subject-9-label_slice_0140.png'), PosixPath('WM/subject-9-label_slice_0142.png'),\n",
       "       PosixPath('WM/subject-9-label_slice_0145.png'), PosixPath('WM/subject-9-label_slice_0146.png'),\n",
       "       PosixPath('WM/subject-9-label_slice_0147.png'), PosixPath('WM/subject-9-label_slice_0148.png'),\n",
       "       PosixPath('WM/subject-9-label_slice_0149.png'), PosixPath('WM/subject-9-label_slice_0152.png'),\n",
       "       PosixPath('WM/subject-9-label_slice_0154.png'), PosixPath('WM/subject-9-label_slice_0155.png'),\n",
       "       PosixPath('WM/subject-9-label_slice_0157.png'), PosixPath('WM/subject-9-label_slice_0159.png'),\n",
       "       PosixPath('WM/subject-9-label_slice_0160.png'), PosixPath('WM/subject-9-label_slice_0162.png'),\n",
       "       PosixPath('WM/subject-9-label_slice_0163.png'), PosixPath('WM/subject-9-label_slice_0164.png'),\n",
       "       PosixPath('WM/subject-9-label_slice_0165.png'), PosixPath('WM/subject-9-label_slice_0166.png'),\n",
       "       PosixPath('WM/subject-9-label_slice_0167.png'), PosixPath('WM/subject-9-label_slice_0168.png'),\n",
       "       PosixPath('WM/subject-9-label_slice_0169.png'), PosixPath('WM/subject-9-label_slice_0170.png'),\n",
       "       PosixPath('WM/subject-9-label_slice_0171.png'), PosixPath('WM/subject-9-label_slice_0172.png'),\n",
       "       PosixPath('WM/subject-9-label_slice_0173.png'), PosixPath('WM/subject-9-label_slice_0175.png'),\n",
       "       PosixPath('WM/subject-9-label_slice_0176.png'), PosixPath('WM/subject-9-label_slice_0177.png'),\n",
       "       PosixPath('WM/subject-9-label_slice_0178.png'), PosixPath('WM/subject-9-label_slice_0179.png'),\n",
       "       PosixPath('WM/subject-9-label_slice_0182.png'), PosixPath('WM/subject-9-label_slice_0183.png'),\n",
       "       PosixPath('WM/subject-9-label_slice_0184.png'), PosixPath('WM/subject-9-label_slice_0185.png'),\n",
       "       PosixPath('WM/subject-9-label_slice_0187.png'), PosixPath('WM/subject-9-label_slice_0188.png'),\n",
       "       PosixPath('WM/subject-9-label_slice_0191.png'), PosixPath('WM/subject-9-label_slice_0192.png'),\n",
       "       PosixPath('WM/subject-9-label_slice_0193.png')], dtype=object)"
      ]
     },
     "execution_count": 16,
     "metadata": {},
     "output_type": "execute_result"
    }
   ],
   "source": [
    "md.trn_y"
   ]
  },
  {
   "cell_type": "code",
   "execution_count": 17,
   "metadata": {},
   "outputs": [
    {
     "data": {
      "image/png": "[encoded data removed]",
      "text/plain": [
       "<PIL.JpegImagePlugin.JpegImageFile image mode=L size=192x144 at 0x7FAE2D15D0B8>"
      ]
     },
     "execution_count": 17,
     "metadata": {},
     "output_type": "execute_result"
    }
   ],
   "source": [
    "fn = f'{PATH}/{md.trn_ds.fnames[90]}'; fn\n",
    "img = PIL.Image.open(fn); img"
   ]
  },
  {
   "cell_type": "code",
   "execution_count": null,
   "metadata": {},
   "outputs": [],
   "source": []
  },
  {
   "cell_type": "code",
   "execution_count": 18,
   "metadata": {},
   "outputs": [],
   "source": [
    "x,y = next(iter(md.trn_dl))"
   ]
  },
  {
   "cell_type": "code",
   "execution_count": 19,
   "metadata": {},
   "outputs": [
    {
     "data": {
      "text/plain": [
       "(torch.Size([32, 3, 256, 256]), torch.Size([32, 256, 256]))"
      ]
     },
     "execution_count": 19,
     "metadata": {},
     "output_type": "execute_result"
    }
   ],
   "source": [
    "x.shape,y.shape"
   ]
  },
  {
   "cell_type": "markdown",
   "metadata": {
    "heading_collapsed": true
   },
   "source": [
    "## Simple upsample"
   ]
  },
  {
   "cell_type": "markdown",
   "metadata": {},
   "source": [
    "## simple use"
   ]
  },
  {
   "cell_type": "code",
   "execution_count": 20,
   "metadata": {
    "hidden": true
   },
   "outputs": [],
   "source": [
    "f = resnet34\n",
    "cut,lr_cut = model_meta[f]"
   ]
  },
  {
   "cell_type": "code",
   "execution_count": 21,
   "metadata": {
    "hidden": true
   },
   "outputs": [],
   "source": [
    "def get_base():\n",
    "    layers = cut_model(f(True), cut)\n",
    "    return nn.Sequential(*layers)"
   ]
  },
  {
   "cell_type": "code",
   "execution_count": 22,
   "metadata": {
    "hidden": true
   },
   "outputs": [],
   "source": [
    "def dice(pred, targs):\n",
    "    pred = (pred>0).float()\n",
    "    return 2. * (pred*targs).sum() / (pred+targs).sum()"
   ]
  },
  {
   "cell_type": "code",
   "execution_count": 23,
   "metadata": {
    "hidden": true
   },
   "outputs": [],
   "source": [
    "class StdUpsample(nn.Module):\n",
    "    def __init__(self, nin, nout):\n",
    "        super().__init__()\n",
    "        self.conv = nn.ConvTranspose2d(nin, nout, 2, stride=2)\n",
    "        self.bn = nn.BatchNorm2d(nout)\n",
    "        \n",
    "    def forward(self, x): return self.bn(F.relu(self.conv(x)))"
   ]
  },
  {
   "cell_type": "code",
   "execution_count": 24,
   "metadata": {
    "hidden": true
   },
   "outputs": [],
   "source": [
    "class Upsample34(nn.Module):\n",
    "    def __init__(self, rn):\n",
    "        super().__init__()\n",
    "        self.rn = rn\n",
    "        self.features = nn.Sequential(\n",
    "            rn, nn.ReLU(),\n",
    "            StdUpsample(512,256),\n",
    "            StdUpsample(256,256),\n",
    "            StdUpsample(256,256),\n",
    "            StdUpsample(256,256),\n",
    "            nn.ConvTranspose2d(256, 1, 2, stride=2))\n",
    "        \n",
    "    def forward(self,x): return self.features(x)[:,0]"
   ]
  },
  {
   "cell_type": "code",
   "execution_count": 25,
   "metadata": {
    "hidden": true
   },
   "outputs": [],
   "source": [
    "class UpsampleModel():\n",
    "    def __init__(self,model,name='upsample'):\n",
    "        self.model,self.name = model,name\n",
    "\n",
    "    def get_layer_groups(self, precompute):\n",
    "        lgs = list(split_by_idxs(children(self.model.rn), [lr_cut]))\n",
    "        return lgs + [children(self.model.features)[1:]]"
   ]
  },
  {
   "cell_type": "markdown",
   "metadata": {},
   "source": [
    "####  Since our image is very different from the fastai course, we need to change the learning rate across layers.  \n",
    "####  we should let the first layers learning rate faster to make it learn quicker. "
   ]
  },
  {
   "cell_type": "markdown",
   "metadata": {},
   "source": [
    "## U-net (ish)"
   ]
  },
  {
   "cell_type": "code",
   "execution_count": 26,
   "metadata": {},
   "outputs": [],
   "source": [
    "class SaveFeatures():\n",
    "    features=None\n",
    "    def __init__(self, m): self.hook = m.register_forward_hook(self.hook_fn)\n",
    "    def hook_fn(self, module, input, output): self.features = output\n",
    "    def remove(self): self.hook.remove()"
   ]
  },
  {
   "cell_type": "code",
   "execution_count": 27,
   "metadata": {},
   "outputs": [],
   "source": [
    "class UnetBlock(nn.Module):\n",
    "    def __init__(self, up_in, x_in, n_out):\n",
    "        super().__init__()\n",
    "        up_out = x_out = n_out//2\n",
    "        self.x_conv  = nn.Conv2d(x_in,  x_out,  1)\n",
    "        self.tr_conv = nn.ConvTranspose2d(up_in, up_out, 2, stride=2)\n",
    "        self.bn = nn.BatchNorm2d(n_out)\n",
    "        \n",
    "    def forward(self, up_p, x_p):\n",
    "        up_p = self.tr_conv(up_p)\n",
    "        x_p = self.x_conv(x_p)\n",
    "        cat_p = torch.cat([up_p,x_p], dim=1)\n",
    "        return self.bn(F.relu(cat_p))"
   ]
  },
  {
   "cell_type": "code",
   "execution_count": 28,
   "metadata": {},
   "outputs": [],
   "source": [
    "class Unet34(nn.Module):\n",
    "    def __init__(self, rn):\n",
    "        super().__init__()\n",
    "        self.rn = rn\n",
    "        self.sfs = [SaveFeatures(rn[i]) for i in [2,4,5,6]]\n",
    "        self.up1 = UnetBlock(512,256,256)\n",
    "        self.up2 = UnetBlock(256,128,256)\n",
    "        self.up3 = UnetBlock(256,64,256)\n",
    "        self.up4 = UnetBlock(256,64,256)\n",
    "        self.up5 = nn.ConvTranspose2d(256, 1, 2, stride=2)\n",
    "        \n",
    "    def forward(self,x):\n",
    "        x = F.relu(self.rn(x))\n",
    "        x = self.up1(x, self.sfs[3].features)\n",
    "        x = self.up2(x, self.sfs[2].features)\n",
    "        x = self.up3(x, self.sfs[1].features)\n",
    "        x = self.up4(x, self.sfs[0].features)\n",
    "        x = self.up5(x)\n",
    "        return x[:,0]\n",
    "    \n",
    "    def close(self):\n",
    "        for sf in self.sfs: sf.remove()"
   ]
  },
  {
   "cell_type": "code",
   "execution_count": 29,
   "metadata": {},
   "outputs": [],
   "source": [
    "# "
   ]
  },
  {
   "cell_type": "code",
   "execution_count": 30,
   "metadata": {},
   "outputs": [],
   "source": [
    "class UnetModel():\n",
    "    def __init__(self,model,name='unet'):\n",
    "        self.model,self.name = model,name\n",
    "\n",
    "    def get_layer_groups(self, precompute):\n",
    "        lgs = list(split_by_idxs(children(self.model.rn), [lr_cut]))\n",
    "        return lgs + [children(self.model)[1:]]"
   ]
  },
  {
   "cell_type": "code",
   "execution_count": 31,
   "metadata": {},
   "outputs": [],
   "source": [
    "m_base = get_base()\n",
    "m = to_gpu(Unet34(m_base))\n",
    "models = UnetModel(m)"
   ]
  },
  {
   "cell_type": "code",
   "execution_count": 32,
   "metadata": {},
   "outputs": [],
   "source": [
    "# m_base = get_base()\n",
    "# m = to_gpu(DynamicUnet(m_base))\n",
    "# models = UnetModel(m)"
   ]
  },
  {
   "cell_type": "code",
   "execution_count": 33,
   "metadata": {},
   "outputs": [],
   "source": [
    "learn = ConvLearner(md, models)\n",
    "learn.opt_fn=optim.Adam\n",
    "learn.crit=nn.BCEWithLogitsLoss()\n",
    "learn.metrics=[accuracy_thresh(0.5),dice]"
   ]
  },
  {
   "cell_type": "code",
   "execution_count": 34,
   "metadata": {},
   "outputs": [
    {
     "data": {
      "text/plain": [
       "OrderedDict([('Conv2d-1',\n",
       "              OrderedDict([('input_shape', [-1, 3, 256, 256]),\n",
       "                           ('output_shape', [-1, 64, 128, 128]),\n",
       "                           ('trainable', False),\n",
       "                           ('nb_params', 9408)])),\n",
       "             ('BatchNorm2d-2',\n",
       "              OrderedDict([('input_shape', [-1, 64, 128, 128]),\n",
       "                           ('output_shape', [-1, 64, 128, 128]),\n",
       "                           ('trainable', False),\n",
       "                           ('nb_params', 128)])),\n",
       "             ('ReLU-3',\n",
       "              OrderedDict([('input_shape', [-1, 64, 128, 128]),\n",
       "                           ('output_shape', [-1, 64, 128, 128]),\n",
       "                           ('nb_params', 0)])),\n",
       "             ('MaxPool2d-4',\n",
       "              OrderedDict([('input_shape', [-1, 64, 128, 128]),\n",
       "                           ('output_shape', [-1, 64, 64, 64]),\n",
       "                           ('nb_params', 0)])),\n",
       "             ('Conv2d-5',\n",
       "              OrderedDict([('input_shape', [-1, 64, 64, 64]),\n",
       "                           ('output_shape', [-1, 64, 64, 64]),\n",
       "                           ('trainable', False),\n",
       "                           ('nb_params', 36864)])),\n",
       "             ('BatchNorm2d-6',\n",
       "              OrderedDict([('input_shape', [-1, 64, 64, 64]),\n",
       "                           ('output_shape', [-1, 64, 64, 64]),\n",
       "                           ('trainable', False),\n",
       "                           ('nb_params', 128)])),\n",
       "             ('ReLU-7',\n",
       "              OrderedDict([('input_shape', [-1, 64, 64, 64]),\n",
       "                           ('output_shape', [-1, 64, 64, 64]),\n",
       "                           ('nb_params', 0)])),\n",
       "             ('Conv2d-8',\n",
       "              OrderedDict([('input_shape', [-1, 64, 64, 64]),\n",
       "                           ('output_shape', [-1, 64, 64, 64]),\n",
       "                           ('trainable', False),\n",
       "                           ('nb_params', 36864)])),\n",
       "             ('BatchNorm2d-9',\n",
       "              OrderedDict([('input_shape', [-1, 64, 64, 64]),\n",
       "                           ('output_shape', [-1, 64, 64, 64]),\n",
       "                           ('trainable', False),\n",
       "                           ('nb_params', 128)])),\n",
       "             ('ReLU-10',\n",
       "              OrderedDict([('input_shape', [-1, 64, 64, 64]),\n",
       "                           ('output_shape', [-1, 64, 64, 64]),\n",
       "                           ('nb_params', 0)])),\n",
       "             ('BasicBlock-11',\n",
       "              OrderedDict([('input_shape', [-1, 64, 64, 64]),\n",
       "                           ('output_shape', [-1, 64, 64, 64]),\n",
       "                           ('nb_params', 0)])),\n",
       "             ('Conv2d-12',\n",
       "              OrderedDict([('input_shape', [-1, 64, 64, 64]),\n",
       "                           ('output_shape', [-1, 64, 64, 64]),\n",
       "                           ('trainable', False),\n",
       "                           ('nb_params', 36864)])),\n",
       "             ('BatchNorm2d-13',\n",
       "              OrderedDict([('input_shape', [-1, 64, 64, 64]),\n",
       "                           ('output_shape', [-1, 64, 64, 64]),\n",
       "                           ('trainable', False),\n",
       "                           ('nb_params', 128)])),\n",
       "             ('ReLU-14',\n",
       "              OrderedDict([('input_shape', [-1, 64, 64, 64]),\n",
       "                           ('output_shape', [-1, 64, 64, 64]),\n",
       "                           ('nb_params', 0)])),\n",
       "             ('Conv2d-15',\n",
       "              OrderedDict([('input_shape', [-1, 64, 64, 64]),\n",
       "                           ('output_shape', [-1, 64, 64, 64]),\n",
       "                           ('trainable', False),\n",
       "                           ('nb_params', 36864)])),\n",
       "             ('BatchNorm2d-16',\n",
       "              OrderedDict([('input_shape', [-1, 64, 64, 64]),\n",
       "                           ('output_shape', [-1, 64, 64, 64]),\n",
       "                           ('trainable', False),\n",
       "                           ('nb_params', 128)])),\n",
       "             ('ReLU-17',\n",
       "              OrderedDict([('input_shape', [-1, 64, 64, 64]),\n",
       "                           ('output_shape', [-1, 64, 64, 64]),\n",
       "                           ('nb_params', 0)])),\n",
       "             ('BasicBlock-18',\n",
       "              OrderedDict([('input_shape', [-1, 64, 64, 64]),\n",
       "                           ('output_shape', [-1, 64, 64, 64]),\n",
       "                           ('nb_params', 0)])),\n",
       "             ('Conv2d-19',\n",
       "              OrderedDict([('input_shape', [-1, 64, 64, 64]),\n",
       "                           ('output_shape', [-1, 64, 64, 64]),\n",
       "                           ('trainable', False),\n",
       "                           ('nb_params', 36864)])),\n",
       "             ('BatchNorm2d-20',\n",
       "              OrderedDict([('input_shape', [-1, 64, 64, 64]),\n",
       "                           ('output_shape', [-1, 64, 64, 64]),\n",
       "                           ('trainable', False),\n",
       "                           ('nb_params', 128)])),\n",
       "             ('ReLU-21',\n",
       "              OrderedDict([('input_shape', [-1, 64, 64, 64]),\n",
       "                           ('output_shape', [-1, 64, 64, 64]),\n",
       "                           ('nb_params', 0)])),\n",
       "             ('Conv2d-22',\n",
       "              OrderedDict([('input_shape', [-1, 64, 64, 64]),\n",
       "                           ('output_shape', [-1, 64, 64, 64]),\n",
       "                           ('trainable', False),\n",
       "                           ('nb_params', 36864)])),\n",
       "             ('BatchNorm2d-23',\n",
       "              OrderedDict([('input_shape', [-1, 64, 64, 64]),\n",
       "                           ('output_shape', [-1, 64, 64, 64]),\n",
       "                           ('trainable', False),\n",
       "                           ('nb_params', 128)])),\n",
       "             ('ReLU-24',\n",
       "              OrderedDict([('input_shape', [-1, 64, 64, 64]),\n",
       "                           ('output_shape', [-1, 64, 64, 64]),\n",
       "                           ('nb_params', 0)])),\n",
       "             ('BasicBlock-25',\n",
       "              OrderedDict([('input_shape', [-1, 64, 64, 64]),\n",
       "                           ('output_shape', [-1, 64, 64, 64]),\n",
       "                           ('nb_params', 0)])),\n",
       "             ('Conv2d-26',\n",
       "              OrderedDict([('input_shape', [-1, 64, 64, 64]),\n",
       "                           ('output_shape', [-1, 128, 32, 32]),\n",
       "                           ('trainable', False),\n",
       "                           ('nb_params', 73728)])),\n",
       "             ('BatchNorm2d-27',\n",
       "              OrderedDict([('input_shape', [-1, 128, 32, 32]),\n",
       "                           ('output_shape', [-1, 128, 32, 32]),\n",
       "                           ('trainable', False),\n",
       "                           ('nb_params', 256)])),\n",
       "             ('ReLU-28',\n",
       "              OrderedDict([('input_shape', [-1, 128, 32, 32]),\n",
       "                           ('output_shape', [-1, 128, 32, 32]),\n",
       "                           ('nb_params', 0)])),\n",
       "             ('Conv2d-29',\n",
       "              OrderedDict([('input_shape', [-1, 128, 32, 32]),\n",
       "                           ('output_shape', [-1, 128, 32, 32]),\n",
       "                           ('trainable', False),\n",
       "                           ('nb_params', 147456)])),\n",
       "             ('BatchNorm2d-30',\n",
       "              OrderedDict([('input_shape', [-1, 128, 32, 32]),\n",
       "                           ('output_shape', [-1, 128, 32, 32]),\n",
       "                           ('trainable', False),\n",
       "                           ('nb_params', 256)])),\n",
       "             ('Conv2d-31',\n",
       "              OrderedDict([('input_shape', [-1, 64, 64, 64]),\n",
       "                           ('output_shape', [-1, 128, 32, 32]),\n",
       "                           ('trainable', False),\n",
       "                           ('nb_params', 8192)])),\n",
       "             ('BatchNorm2d-32',\n",
       "              OrderedDict([('input_shape', [-1, 128, 32, 32]),\n",
       "                           ('output_shape', [-1, 128, 32, 32]),\n",
       "                           ('trainable', False),\n",
       "                           ('nb_params', 256)])),\n",
       "             ('ReLU-33',\n",
       "              OrderedDict([('input_shape', [-1, 128, 32, 32]),\n",
       "                           ('output_shape', [-1, 128, 32, 32]),\n",
       "                           ('nb_params', 0)])),\n",
       "             ('BasicBlock-34',\n",
       "              OrderedDict([('input_shape', [-1, 64, 64, 64]),\n",
       "                           ('output_shape', [-1, 128, 32, 32]),\n",
       "                           ('nb_params', 0)])),\n",
       "             ('Conv2d-35',\n",
       "              OrderedDict([('input_shape', [-1, 128, 32, 32]),\n",
       "                           ('output_shape', [-1, 128, 32, 32]),\n",
       "                           ('trainable', False),\n",
       "                           ('nb_params', 147456)])),\n",
       "             ('BatchNorm2d-36',\n",
       "              OrderedDict([('input_shape', [-1, 128, 32, 32]),\n",
       "                           ('output_shape', [-1, 128, 32, 32]),\n",
       "                           ('trainable', False),\n",
       "                           ('nb_params', 256)])),\n",
       "             ('ReLU-37',\n",
       "              OrderedDict([('input_shape', [-1, 128, 32, 32]),\n",
       "                           ('output_shape', [-1, 128, 32, 32]),\n",
       "                           ('nb_params', 0)])),\n",
       "             ('Conv2d-38',\n",
       "              OrderedDict([('input_shape', [-1, 128, 32, 32]),\n",
       "                           ('output_shape', [-1, 128, 32, 32]),\n",
       "                           ('trainable', False),\n",
       "                           ('nb_params', 147456)])),\n",
       "             ('BatchNorm2d-39',\n",
       "              OrderedDict([('input_shape', [-1, 128, 32, 32]),\n",
       "                           ('output_shape', [-1, 128, 32, 32]),\n",
       "                           ('trainable', False),\n",
       "                           ('nb_params', 256)])),\n",
       "             ('ReLU-40',\n",
       "              OrderedDict([('input_shape', [-1, 128, 32, 32]),\n",
       "                           ('output_shape', [-1, 128, 32, 32]),\n",
       "                           ('nb_params', 0)])),\n",
       "             ('BasicBlock-41',\n",
       "              OrderedDict([('input_shape', [-1, 128, 32, 32]),\n",
       "                           ('output_shape', [-1, 128, 32, 32]),\n",
       "                           ('nb_params', 0)])),\n",
       "             ('Conv2d-42',\n",
       "              OrderedDict([('input_shape', [-1, 128, 32, 32]),\n",
       "                           ('output_shape', [-1, 128, 32, 32]),\n",
       "                           ('trainable', False),\n",
       "                           ('nb_params', 147456)])),\n",
       "             ('BatchNorm2d-43',\n",
       "              OrderedDict([('input_shape', [-1, 128, 32, 32]),\n",
       "                           ('output_shape', [-1, 128, 32, 32]),\n",
       "                           ('trainable', False),\n",
       "                           ('nb_params', 256)])),\n",
       "             ('ReLU-44',\n",
       "              OrderedDict([('input_shape', [-1, 128, 32, 32]),\n",
       "                           ('output_shape', [-1, 128, 32, 32]),\n",
       "                           ('nb_params', 0)])),\n",
       "             ('Conv2d-45',\n",
       "              OrderedDict([('input_shape', [-1, 128, 32, 32]),\n",
       "                           ('output_shape', [-1, 128, 32, 32]),\n",
       "                           ('trainable', False),\n",
       "                           ('nb_params', 147456)])),\n",
       "             ('BatchNorm2d-46',\n",
       "              OrderedDict([('input_shape', [-1, 128, 32, 32]),\n",
       "                           ('output_shape', [-1, 128, 32, 32]),\n",
       "                           ('trainable', False),\n",
       "                           ('nb_params', 256)])),\n",
       "             ('ReLU-47',\n",
       "              OrderedDict([('input_shape', [-1, 128, 32, 32]),\n",
       "                           ('output_shape', [-1, 128, 32, 32]),\n",
       "                           ('nb_params', 0)])),\n",
       "             ('BasicBlock-48',\n",
       "              OrderedDict([('input_shape', [-1, 128, 32, 32]),\n",
       "                           ('output_shape', [-1, 128, 32, 32]),\n",
       "                           ('nb_params', 0)])),\n",
       "             ('Conv2d-49',\n",
       "              OrderedDict([('input_shape', [-1, 128, 32, 32]),\n",
       "                           ('output_shape', [-1, 128, 32, 32]),\n",
       "                           ('trainable', False),\n",
       "                           ('nb_params', 147456)])),\n",
       "             ('BatchNorm2d-50',\n",
       "              OrderedDict([('input_shape', [-1, 128, 32, 32]),\n",
       "                           ('output_shape', [-1, 128, 32, 32]),\n",
       "                           ('trainable', False),\n",
       "                           ('nb_params', 256)])),\n",
       "             ('ReLU-51',\n",
       "              OrderedDict([('input_shape', [-1, 128, 32, 32]),\n",
       "                           ('output_shape', [-1, 128, 32, 32]),\n",
       "                           ('nb_params', 0)])),\n",
       "             ('Conv2d-52',\n",
       "              OrderedDict([('input_shape', [-1, 128, 32, 32]),\n",
       "                           ('output_shape', [-1, 128, 32, 32]),\n",
       "                           ('trainable', False),\n",
       "                           ('nb_params', 147456)])),\n",
       "             ('BatchNorm2d-53',\n",
       "              OrderedDict([('input_shape', [-1, 128, 32, 32]),\n",
       "                           ('output_shape', [-1, 128, 32, 32]),\n",
       "                           ('trainable', False),\n",
       "                           ('nb_params', 256)])),\n",
       "             ('ReLU-54',\n",
       "              OrderedDict([('input_shape', [-1, 128, 32, 32]),\n",
       "                           ('output_shape', [-1, 128, 32, 32]),\n",
       "                           ('nb_params', 0)])),\n",
       "             ('BasicBlock-55',\n",
       "              OrderedDict([('input_shape', [-1, 128, 32, 32]),\n",
       "                           ('output_shape', [-1, 128, 32, 32]),\n",
       "                           ('nb_params', 0)])),\n",
       "             ('Conv2d-56',\n",
       "              OrderedDict([('input_shape', [-1, 128, 32, 32]),\n",
       "                           ('output_shape', [-1, 256, 16, 16]),\n",
       "                           ('trainable', False),\n",
       "                           ('nb_params', 294912)])),\n",
       "             ('BatchNorm2d-57',\n",
       "              OrderedDict([('input_shape', [-1, 256, 16, 16]),\n",
       "                           ('output_shape', [-1, 256, 16, 16]),\n",
       "                           ('trainable', False),\n",
       "                           ('nb_params', 512)])),\n",
       "             ('ReLU-58',\n",
       "              OrderedDict([('input_shape', [-1, 256, 16, 16]),\n",
       "                           ('output_shape', [-1, 256, 16, 16]),\n",
       "                           ('nb_params', 0)])),\n",
       "             ('Conv2d-59',\n",
       "              OrderedDict([('input_shape', [-1, 256, 16, 16]),\n",
       "                           ('output_shape', [-1, 256, 16, 16]),\n",
       "                           ('trainable', False),\n",
       "                           ('nb_params', 589824)])),\n",
       "             ('BatchNorm2d-60',\n",
       "              OrderedDict([('input_shape', [-1, 256, 16, 16]),\n",
       "                           ('output_shape', [-1, 256, 16, 16]),\n",
       "                           ('trainable', False),\n",
       "                           ('nb_params', 512)])),\n",
       "             ('Conv2d-61',\n",
       "              OrderedDict([('input_shape', [-1, 128, 32, 32]),\n",
       "                           ('output_shape', [-1, 256, 16, 16]),\n",
       "                           ('trainable', False),\n",
       "                           ('nb_params', 32768)])),\n",
       "             ('BatchNorm2d-62',\n",
       "              OrderedDict([('input_shape', [-1, 256, 16, 16]),\n",
       "                           ('output_shape', [-1, 256, 16, 16]),\n",
       "                           ('trainable', False),\n",
       "                           ('nb_params', 512)])),\n",
       "             ('ReLU-63',\n",
       "              OrderedDict([('input_shape', [-1, 256, 16, 16]),\n",
       "                           ('output_shape', [-1, 256, 16, 16]),\n",
       "                           ('nb_params', 0)])),\n",
       "             ('BasicBlock-64',\n",
       "              OrderedDict([('input_shape', [-1, 128, 32, 32]),\n",
       "                           ('output_shape', [-1, 256, 16, 16]),\n",
       "                           ('nb_params', 0)])),\n",
       "             ('Conv2d-65',\n",
       "              OrderedDict([('input_shape', [-1, 256, 16, 16]),\n",
       "                           ('output_shape', [-1, 256, 16, 16]),\n",
       "                           ('trainable', False),\n",
       "                           ('nb_params', 589824)])),\n",
       "             ('BatchNorm2d-66',\n",
       "              OrderedDict([('input_shape', [-1, 256, 16, 16]),\n",
       "                           ('output_shape', [-1, 256, 16, 16]),\n",
       "                           ('trainable', False),\n",
       "                           ('nb_params', 512)])),\n",
       "             ('ReLU-67',\n",
       "              OrderedDict([('input_shape', [-1, 256, 16, 16]),\n",
       "                           ('output_shape', [-1, 256, 16, 16]),\n",
       "                           ('nb_params', 0)])),\n",
       "             ('Conv2d-68',\n",
       "              OrderedDict([('input_shape', [-1, 256, 16, 16]),\n",
       "                           ('output_shape', [-1, 256, 16, 16]),\n",
       "                           ('trainable', False),\n",
       "                           ('nb_params', 589824)])),\n",
       "             ('BatchNorm2d-69',\n",
       "              OrderedDict([('input_shape', [-1, 256, 16, 16]),\n",
       "                           ('output_shape', [-1, 256, 16, 16]),\n",
       "                           ('trainable', False),\n",
       "                           ('nb_params', 512)])),\n",
       "             ('ReLU-70',\n",
       "              OrderedDict([('input_shape', [-1, 256, 16, 16]),\n",
       "                           ('output_shape', [-1, 256, 16, 16]),\n",
       "                           ('nb_params', 0)])),\n",
       "             ('BasicBlock-71',\n",
       "              OrderedDict([('input_shape', [-1, 256, 16, 16]),\n",
       "                           ('output_shape', [-1, 256, 16, 16]),\n",
       "                           ('nb_params', 0)])),\n",
       "             ('Conv2d-72',\n",
       "              OrderedDict([('input_shape', [-1, 256, 16, 16]),\n",
       "                           ('output_shape', [-1, 256, 16, 16]),\n",
       "                           ('trainable', False),\n",
       "                           ('nb_params', 589824)])),\n",
       "             ('BatchNorm2d-73',\n",
       "              OrderedDict([('input_shape', [-1, 256, 16, 16]),\n",
       "                           ('output_shape', [-1, 256, 16, 16]),\n",
       "                           ('trainable', False),\n",
       "                           ('nb_params', 512)])),\n",
       "             ('ReLU-74',\n",
       "              OrderedDict([('input_shape', [-1, 256, 16, 16]),\n",
       "                           ('output_shape', [-1, 256, 16, 16]),\n",
       "                           ('nb_params', 0)])),\n",
       "             ('Conv2d-75',\n",
       "              OrderedDict([('input_shape', [-1, 256, 16, 16]),\n",
       "                           ('output_shape', [-1, 256, 16, 16]),\n",
       "                           ('trainable', False),\n",
       "                           ('nb_params', 589824)])),\n",
       "             ('BatchNorm2d-76',\n",
       "              OrderedDict([('input_shape', [-1, 256, 16, 16]),\n",
       "                           ('output_shape', [-1, 256, 16, 16]),\n",
       "                           ('trainable', False),\n",
       "                           ('nb_params', 512)])),\n",
       "             ('ReLU-77',\n",
       "              OrderedDict([('input_shape', [-1, 256, 16, 16]),\n",
       "                           ('output_shape', [-1, 256, 16, 16]),\n",
       "                           ('nb_params', 0)])),\n",
       "             ('BasicBlock-78',\n",
       "              OrderedDict([('input_shape', [-1, 256, 16, 16]),\n",
       "                           ('output_shape', [-1, 256, 16, 16]),\n",
       "                           ('nb_params', 0)])),\n",
       "             ('Conv2d-79',\n",
       "              OrderedDict([('input_shape', [-1, 256, 16, 16]),\n",
       "                           ('output_shape', [-1, 256, 16, 16]),\n",
       "                           ('trainable', False),\n",
       "                           ('nb_params', 589824)])),\n",
       "             ('BatchNorm2d-80',\n",
       "              OrderedDict([('input_shape', [-1, 256, 16, 16]),\n",
       "                           ('output_shape', [-1, 256, 16, 16]),\n",
       "                           ('trainable', False),\n",
       "                           ('nb_params', 512)])),\n",
       "             ('ReLU-81',\n",
       "              OrderedDict([('input_shape', [-1, 256, 16, 16]),\n",
       "                           ('output_shape', [-1, 256, 16, 16]),\n",
       "                           ('nb_params', 0)])),\n",
       "             ('Conv2d-82',\n",
       "              OrderedDict([('input_shape', [-1, 256, 16, 16]),\n",
       "                           ('output_shape', [-1, 256, 16, 16]),\n",
       "                           ('trainable', False),\n",
       "                           ('nb_params', 589824)])),\n",
       "             ('BatchNorm2d-83',\n",
       "              OrderedDict([('input_shape', [-1, 256, 16, 16]),\n",
       "                           ('output_shape', [-1, 256, 16, 16]),\n",
       "                           ('trainable', False),\n",
       "                           ('nb_params', 512)])),\n",
       "             ('ReLU-84',\n",
       "              OrderedDict([('input_shape', [-1, 256, 16, 16]),\n",
       "                           ('output_shape', [-1, 256, 16, 16]),\n",
       "                           ('nb_params', 0)])),\n",
       "             ('BasicBlock-85',\n",
       "              OrderedDict([('input_shape', [-1, 256, 16, 16]),\n",
       "                           ('output_shape', [-1, 256, 16, 16]),\n",
       "                           ('nb_params', 0)])),\n",
       "             ('Conv2d-86',\n",
       "              OrderedDict([('input_shape', [-1, 256, 16, 16]),\n",
       "                           ('output_shape', [-1, 256, 16, 16]),\n",
       "                           ('trainable', False),\n",
       "                           ('nb_params', 589824)])),\n",
       "             ('BatchNorm2d-87',\n",
       "              OrderedDict([('input_shape', [-1, 256, 16, 16]),\n",
       "                           ('output_shape', [-1, 256, 16, 16]),\n",
       "                           ('trainable', False),\n",
       "                           ('nb_params', 512)])),\n",
       "             ('ReLU-88',\n",
       "              OrderedDict([('input_shape', [-1, 256, 16, 16]),\n",
       "                           ('output_shape', [-1, 256, 16, 16]),\n",
       "                           ('nb_params', 0)])),\n",
       "             ('Conv2d-89',\n",
       "              OrderedDict([('input_shape', [-1, 256, 16, 16]),\n",
       "                           ('output_shape', [-1, 256, 16, 16]),\n",
       "                           ('trainable', False),\n",
       "                           ('nb_params', 589824)])),\n",
       "             ('BatchNorm2d-90',\n",
       "              OrderedDict([('input_shape', [-1, 256, 16, 16]),\n",
       "                           ('output_shape', [-1, 256, 16, 16]),\n",
       "                           ('trainable', False),\n",
       "                           ('nb_params', 512)])),\n",
       "             ('ReLU-91',\n",
       "              OrderedDict([('input_shape', [-1, 256, 16, 16]),\n",
       "                           ('output_shape', [-1, 256, 16, 16]),\n",
       "                           ('nb_params', 0)])),\n",
       "             ('BasicBlock-92',\n",
       "              OrderedDict([('input_shape', [-1, 256, 16, 16]),\n",
       "                           ('output_shape', [-1, 256, 16, 16]),\n",
       "                           ('nb_params', 0)])),\n",
       "             ('Conv2d-93',\n",
       "              OrderedDict([('input_shape', [-1, 256, 16, 16]),\n",
       "                           ('output_shape', [-1, 256, 16, 16]),\n",
       "                           ('trainable', False),\n",
       "                           ('nb_params', 589824)])),\n",
       "             ('BatchNorm2d-94',\n",
       "              OrderedDict([('input_shape', [-1, 256, 16, 16]),\n",
       "                           ('output_shape', [-1, 256, 16, 16]),\n",
       "                           ('trainable', False),\n",
       "                           ('nb_params', 512)])),\n",
       "             ('ReLU-95',\n",
       "              OrderedDict([('input_shape', [-1, 256, 16, 16]),\n",
       "                           ('output_shape', [-1, 256, 16, 16]),\n",
       "                           ('nb_params', 0)])),\n",
       "             ('Conv2d-96',\n",
       "              OrderedDict([('input_shape', [-1, 256, 16, 16]),\n",
       "                           ('output_shape', [-1, 256, 16, 16]),\n",
       "                           ('trainable', False),\n",
       "                           ('nb_params', 589824)])),\n",
       "             ('BatchNorm2d-97',\n",
       "              OrderedDict([('input_shape', [-1, 256, 16, 16]),\n",
       "                           ('output_shape', [-1, 256, 16, 16]),\n",
       "                           ('trainable', False),\n",
       "                           ('nb_params', 512)])),\n",
       "             ('ReLU-98',\n",
       "              OrderedDict([('input_shape', [-1, 256, 16, 16]),\n",
       "                           ('output_shape', [-1, 256, 16, 16]),\n",
       "                           ('nb_params', 0)])),\n",
       "             ('BasicBlock-99',\n",
       "              OrderedDict([('input_shape', [-1, 256, 16, 16]),\n",
       "                           ('output_shape', [-1, 256, 16, 16]),\n",
       "                           ('nb_params', 0)])),\n",
       "             ('Conv2d-100',\n",
       "              OrderedDict([('input_shape', [-1, 256, 16, 16]),\n",
       "                           ('output_shape', [-1, 512, 8, 8]),\n",
       "                           ('trainable', False),\n",
       "                           ('nb_params', 1179648)])),\n",
       "             ('BatchNorm2d-101',\n",
       "              OrderedDict([('input_shape', [-1, 512, 8, 8]),\n",
       "                           ('output_shape', [-1, 512, 8, 8]),\n",
       "                           ('trainable', False),\n",
       "                           ('nb_params', 1024)])),\n",
       "             ('ReLU-102',\n",
       "              OrderedDict([('input_shape', [-1, 512, 8, 8]),\n",
       "                           ('output_shape', [-1, 512, 8, 8]),\n",
       "                           ('nb_params', 0)])),\n",
       "             ('Conv2d-103',\n",
       "              OrderedDict([('input_shape', [-1, 512, 8, 8]),\n",
       "                           ('output_shape', [-1, 512, 8, 8]),\n",
       "                           ('trainable', False),\n",
       "                           ('nb_params', 2359296)])),\n",
       "             ('BatchNorm2d-104',\n",
       "              OrderedDict([('input_shape', [-1, 512, 8, 8]),\n",
       "                           ('output_shape', [-1, 512, 8, 8]),\n",
       "                           ('trainable', False),\n",
       "                           ('nb_params', 1024)])),\n",
       "             ('Conv2d-105',\n",
       "              OrderedDict([('input_shape', [-1, 256, 16, 16]),\n",
       "                           ('output_shape', [-1, 512, 8, 8]),\n",
       "                           ('trainable', False),\n",
       "                           ('nb_params', 131072)])),\n",
       "             ('BatchNorm2d-106',\n",
       "              OrderedDict([('input_shape', [-1, 512, 8, 8]),\n",
       "                           ('output_shape', [-1, 512, 8, 8]),\n",
       "                           ('trainable', False),\n",
       "                           ('nb_params', 1024)])),\n",
       "             ('ReLU-107',\n",
       "              OrderedDict([('input_shape', [-1, 512, 8, 8]),\n",
       "                           ('output_shape', [-1, 512, 8, 8]),\n",
       "                           ('nb_params', 0)])),\n",
       "             ('BasicBlock-108',\n",
       "              OrderedDict([('input_shape', [-1, 256, 16, 16]),\n",
       "                           ('output_shape', [-1, 512, 8, 8]),\n",
       "                           ('nb_params', 0)])),\n",
       "             ('Conv2d-109',\n",
       "              OrderedDict([('input_shape', [-1, 512, 8, 8]),\n",
       "                           ('output_shape', [-1, 512, 8, 8]),\n",
       "                           ('trainable', False),\n",
       "                           ('nb_params', 2359296)])),\n",
       "             ('BatchNorm2d-110',\n",
       "              OrderedDict([('input_shape', [-1, 512, 8, 8]),\n",
       "                           ('output_shape', [-1, 512, 8, 8]),\n",
       "                           ('trainable', False),\n",
       "                           ('nb_params', 1024)])),\n",
       "             ('ReLU-111',\n",
       "              OrderedDict([('input_shape', [-1, 512, 8, 8]),\n",
       "                           ('output_shape', [-1, 512, 8, 8]),\n",
       "                           ('nb_params', 0)])),\n",
       "             ('Conv2d-112',\n",
       "              OrderedDict([('input_shape', [-1, 512, 8, 8]),\n",
       "                           ('output_shape', [-1, 512, 8, 8]),\n",
       "                           ('trainable', False),\n",
       "                           ('nb_params', 2359296)])),\n",
       "             ('BatchNorm2d-113',\n",
       "              OrderedDict([('input_shape', [-1, 512, 8, 8]),\n",
       "                           ('output_shape', [-1, 512, 8, 8]),\n",
       "                           ('trainable', False),\n",
       "                           ('nb_params', 1024)])),\n",
       "             ('ReLU-114',\n",
       "              OrderedDict([('input_shape', [-1, 512, 8, 8]),\n",
       "                           ('output_shape', [-1, 512, 8, 8]),\n",
       "                           ('nb_params', 0)])),\n",
       "             ('BasicBlock-115',\n",
       "              OrderedDict([('input_shape', [-1, 512, 8, 8]),\n",
       "                           ('output_shape', [-1, 512, 8, 8]),\n",
       "                           ('nb_params', 0)])),\n",
       "             ('Conv2d-116',\n",
       "              OrderedDict([('input_shape', [-1, 512, 8, 8]),\n",
       "                           ('output_shape', [-1, 512, 8, 8]),\n",
       "                           ('trainable', False),\n",
       "                           ('nb_params', 2359296)])),\n",
       "             ('BatchNorm2d-117',\n",
       "              OrderedDict([('input_shape', [-1, 512, 8, 8]),\n",
       "                           ('output_shape', [-1, 512, 8, 8]),\n",
       "                           ('trainable', False),\n",
       "                           ('nb_params', 1024)])),\n",
       "             ('ReLU-118',\n",
       "              OrderedDict([('input_shape', [-1, 512, 8, 8]),\n",
       "                           ('output_shape', [-1, 512, 8, 8]),\n",
       "                           ('nb_params', 0)])),\n",
       "             ('Conv2d-119',\n",
       "              OrderedDict([('input_shape', [-1, 512, 8, 8]),\n",
       "                           ('output_shape', [-1, 512, 8, 8]),\n",
       "                           ('trainable', False),\n",
       "                           ('nb_params', 2359296)])),\n",
       "             ('BatchNorm2d-120',\n",
       "              OrderedDict([('input_shape', [-1, 512, 8, 8]),\n",
       "                           ('output_shape', [-1, 512, 8, 8]),\n",
       "                           ('trainable', False),\n",
       "                           ('nb_params', 1024)])),\n",
       "             ('ReLU-121',\n",
       "              OrderedDict([('input_shape', [-1, 512, 8, 8]),\n",
       "                           ('output_shape', [-1, 512, 8, 8]),\n",
       "                           ('nb_params', 0)])),\n",
       "             ('BasicBlock-122',\n",
       "              OrderedDict([('input_shape', [-1, 512, 8, 8]),\n",
       "                           ('output_shape', [-1, 512, 8, 8]),\n",
       "                           ('nb_params', 0)])),\n",
       "             ('ConvTranspose2d-123',\n",
       "              OrderedDict([('input_shape', [-1, 512, 8, 8]),\n",
       "                           ('output_shape', [-1, 128, 16, 16]),\n",
       "                           ('trainable', True),\n",
       "                           ('nb_params', 262272)])),\n",
       "             ('Conv2d-124',\n",
       "              OrderedDict([('input_shape', [-1, 256, 16, 16]),\n",
       "                           ('output_shape', [-1, 128, 16, 16]),\n",
       "                           ('trainable', True),\n",
       "                           ('nb_params', 32896)])),\n",
       "             ('BatchNorm2d-125',\n",
       "              OrderedDict([('input_shape', [-1, 256, 16, 16]),\n",
       "                           ('output_shape', [-1, 256, 16, 16]),\n",
       "                           ('trainable', True),\n",
       "                           ('nb_params', 512)])),\n",
       "             ('UnetBlock-126',\n",
       "              OrderedDict([('input_shape', [-1, 512, 8, 8]),\n",
       "                           ('output_shape', [-1, 256, 16, 16]),\n",
       "                           ('nb_params', 0)])),\n",
       "             ('ConvTranspose2d-127',\n",
       "              OrderedDict([('input_shape', [-1, 256, 16, 16]),\n",
       "                           ('output_shape', [-1, 128, 32, 32]),\n",
       "                           ('trainable', True),\n",
       "                           ('nb_params', 131200)])),\n",
       "             ('Conv2d-128',\n",
       "              OrderedDict([('input_shape', [-1, 128, 32, 32]),\n",
       "                           ('output_shape', [-1, 128, 32, 32]),\n",
       "                           ('trainable', True),\n",
       "                           ('nb_params', 16512)])),\n",
       "             ('BatchNorm2d-129',\n",
       "              OrderedDict([('input_shape', [-1, 256, 32, 32]),\n",
       "                           ('output_shape', [-1, 256, 32, 32]),\n",
       "                           ('trainable', True),\n",
       "                           ('nb_params', 512)])),\n",
       "             ('UnetBlock-130',\n",
       "              OrderedDict([('input_shape', [-1, 256, 16, 16]),\n",
       "                           ('output_shape', [-1, 256, 32, 32]),\n",
       "                           ('nb_params', 0)])),\n",
       "             ('ConvTranspose2d-131',\n",
       "              OrderedDict([('input_shape', [-1, 256, 32, 32]),\n",
       "                           ('output_shape', [-1, 128, 64, 64]),\n",
       "                           ('trainable', True),\n",
       "                           ('nb_params', 131200)])),\n",
       "             ('Conv2d-132',\n",
       "              OrderedDict([('input_shape', [-1, 64, 64, 64]),\n",
       "                           ('output_shape', [-1, 128, 64, 64]),\n",
       "                           ('trainable', True),\n",
       "                           ('nb_params', 8320)])),\n",
       "             ('BatchNorm2d-133',\n",
       "              OrderedDict([('input_shape', [-1, 256, 64, 64]),\n",
       "                           ('output_shape', [-1, 256, 64, 64]),\n",
       "                           ('trainable', True),\n",
       "                           ('nb_params', 512)])),\n",
       "             ('UnetBlock-134',\n",
       "              OrderedDict([('input_shape', [-1, 256, 32, 32]),\n",
       "                           ('output_shape', [-1, 256, 64, 64]),\n",
       "                           ('nb_params', 0)])),\n",
       "             ('ConvTranspose2d-135',\n",
       "              OrderedDict([('input_shape', [-1, 256, 64, 64]),\n",
       "                           ('output_shape', [-1, 128, 128, 128]),\n",
       "                           ('trainable', True),\n",
       "                           ('nb_params', 131200)])),\n",
       "             ('Conv2d-136',\n",
       "              OrderedDict([('input_shape', [-1, 64, 128, 128]),\n",
       "                           ('output_shape', [-1, 128, 128, 128]),\n",
       "                           ('trainable', True),\n",
       "                           ('nb_params', 8320)])),\n",
       "             ('BatchNorm2d-137',\n",
       "              OrderedDict([('input_shape', [-1, 256, 128, 128]),\n",
       "                           ('output_shape', [-1, 256, 128, 128]),\n",
       "                           ('trainable', True),\n",
       "                           ('nb_params', 512)])),\n",
       "             ('UnetBlock-138',\n",
       "              OrderedDict([('input_shape', [-1, 256, 64, 64]),\n",
       "                           ('output_shape', [-1, 256, 128, 128]),\n",
       "                           ('nb_params', 0)])),\n",
       "             ('ConvTranspose2d-139',\n",
       "              OrderedDict([('input_shape', [-1, 256, 128, 128]),\n",
       "                           ('output_shape', [-1, 1, 256, 256]),\n",
       "                           ('trainable', True),\n",
       "                           ('nb_params', 1025)]))])"
      ]
     },
     "execution_count": 34,
     "metadata": {},
     "output_type": "execute_result"
    }
   ],
   "source": [
    "learn.summary()"
   ]
  },
  {
   "cell_type": "code",
   "execution_count": 35,
   "metadata": {},
   "outputs": [
    {
     "data": {
      "text/plain": [
       "[torch.Size([3, 64, 128, 128]),\n",
       " torch.Size([3, 64, 64, 64]),\n",
       " torch.Size([3, 128, 32, 32]),\n",
       " torch.Size([3, 256, 16, 16])]"
      ]
     },
     "execution_count": 35,
     "metadata": {},
     "output_type": "execute_result"
    }
   ],
   "source": [
    "[o.features.size() for o in m.sfs]"
   ]
  },
  {
   "cell_type": "code",
   "execution_count": 36,
   "metadata": {},
   "outputs": [],
   "source": [
    "learn.freeze_to(1)"
   ]
  },
  {
   "cell_type": "code",
   "execution_count": 37,
   "metadata": {},
   "outputs": [
    {
     "data": {
      "application/vnd.jupyter.widget-view+json": {
       "model_id": "abc6188871fc43cf8f05094b3e201b97",
       "version_major": 2,
       "version_minor": 0
      },
      "text/html": [
       "<p>Failed to display Jupyter Widget of type <code>HBox</code>.</p>\n",
       "<p>\n",
       "  If you're reading this message in the Jupyter Notebook or JupyterLab Notebook, it may mean\n",
       "  that the widgets JavaScript is still loading. If this message persists, it\n",
       "  likely means that the widgets JavaScript library is either not installed or\n",
       "  not enabled. See the <a href=\"https://ipywidgets.readthedocs.io/en/stable/user_install.html\">Jupyter\n",
       "  Widgets Documentation</a> for setup instructions.\n",
       "</p>\n",
       "<p>\n",
       "  If you're reading this message in another frontend (for example, a static\n",
       "  rendering on GitHub or <a href=\"https://nbviewer.jupyter.org/\">NBViewer</a>),\n",
       "  it may mean that your frontend doesn't currently support widgets.\n",
       "</p>\n"
      ],
      "text/plain": [
       "HBox(children=(IntProgress(value=0, description='Epoch', max=1), HTML(value='')))"
      ]
     },
     "metadata": {},
     "output_type": "display_data"
    },
    {
     "name": "stdout",
     "output_type": "stream",
     "text": [
      " 95%|█████████▌| 20/21 [00:12<00:00,  1.58it/s, loss=0.99] "
     ]
    },
    {
     "data": {
      "image/png": "[encoded data removed]",
      "text/plain": [
       "<matplotlib.figure.Figure at 0x7fae2cfcaba8>"
      ]
     },
     "metadata": {},
     "output_type": "display_data"
    }
   ],
   "source": [
    "learn.lr_find()\n",
    "learn.sched.plot()"
   ]
  },
  {
   "cell_type": "code",
   "execution_count": 38,
   "metadata": {},
   "outputs": [],
   "source": [
    "lr=5e-2\n",
    "wd=1e-2\n",
    "\n",
    "#lrs = np.array([lr/100,lr/10,lr])/2"
   ]
  },
  {
   "cell_type": "markdown",
   "metadata": {},
   "source": [
    "### Use the new way of doing things with restart (recommended):"
   ]
  },
  {
   "cell_type": "code",
   "execution_count": 39,
   "metadata": {},
   "outputs": [
    {
     "data": {
      "application/vnd.jupyter.widget-view+json": {
       "model_id": "33b88b80075b4dc0be9ee21f13c0d4dc",
       "version_major": 2,
       "version_minor": 0
      },
      "text/html": [
       "<p>Failed to display Jupyter Widget of type <code>HBox</code>.</p>\n",
       "<p>\n",
       "  If you're reading this message in the Jupyter Notebook or JupyterLab Notebook, it may mean\n",
       "  that the widgets JavaScript is still loading. If this message persists, it\n",
       "  likely means that the widgets JavaScript library is either not installed or\n",
       "  not enabled. See the <a href=\"https://ipywidgets.readthedocs.io/en/stable/user_install.html\">Jupyter\n",
       "  Widgets Documentation</a> for setup instructions.\n",
       "</p>\n",
       "<p>\n",
       "  If you're reading this message in another frontend (for example, a static\n",
       "  rendering on GitHub or <a href=\"https://nbviewer.jupyter.org/\">NBViewer</a>),\n",
       "  it may mean that your frontend doesn't currently support widgets.\n",
       "</p>\n"
      ],
      "text/plain": [
       "HBox(children=(IntProgress(value=0, description='Epoch', max=14), HTML(value='')))"
      ]
     },
     "metadata": {},
     "output_type": "display_data"
    },
    {
     "name": "stdout",
     "output_type": "stream",
     "text": [
      " 33%|███▎      | 7/21 [00:04<00:09,  1.48it/s, loss=0.652]\n"
     ]
    },
    {
     "name": "stderr",
     "output_type": "stream",
     "text": [
      "Exception in thread Thread-4:\n",
      "Traceback (most recent call last):\n",
      "  File \"/home/paperspace/anaconda3/envs/fastai/lib/python3.6/threading.py\", line 916, in _bootstrap_inner\n",
      "    self.run()\n",
      "  File \"/home/paperspace/anaconda3/envs/fastai/lib/python3.6/site-packages/tqdm/_tqdm.py\", line 144, in run\n",
      "    for instance in self.tqdm_cls._instances:\n",
      "  File \"/home/paperspace/anaconda3/envs/fastai/lib/python3.6/_weakrefset.py\", line 60, in __iter__\n",
      "    for itemref in self.data:\n",
      "RuntimeError: Set changed size during iteration\n",
      "\n"
     ]
    },
    {
     "name": "stdout",
     "output_type": "stream",
     "text": [
      "epoch      trn_loss   val_loss   <lambda>   dice           \n",
      "    0      0.321358   23.858544  0.440386   0.282201  \n",
      "    1      0.227126   0.164693   0.908093   0.549351       \n",
      "    2      0.197422   0.15146    0.921703   0.639394       \n",
      "    3      0.177325   0.147061   0.924744   0.65789        \n",
      "    4      0.164993   0.143458   0.925863   0.65463        \n",
      "    5      0.156      0.142723   0.926058   0.655253       \n",
      "    6      0.152381   0.152886   0.912039   0.510358       \n",
      "    7      0.148589   0.139707   0.92992    0.685874       \n",
      "    8      0.143918   0.147483   0.920376   0.579534       \n",
      "    9      0.140026   0.134361   0.934674   0.70702        \n",
      "    10     0.1354     0.129618   0.933928   0.702738       \n",
      "    11     0.131695   0.13071    0.93771    0.723982       \n",
      "    12     0.128782   0.125485   0.935289   0.702127       \n",
      "    13     0.126904   0.125088   0.936185   0.708898       \n",
      "\n"
     ]
    },
    {
     "data": {
      "text/plain": [
       "[array([ 0.12509]), 0.93618506265409063, 0.70889770092689464]"
      ]
     },
     "execution_count": 39,
     "metadata": {},
     "output_type": "execute_result"
    }
   ],
   "source": [
    "learn.fit(lr, n_cycle=3, wds=0.025, use_wd_sched=True, cycle_len=2, cycle_mult=2)"
   ]
  },
  {
   "cell_type": "markdown",
   "metadata": {},
   "source": [
    "#### Differential learning rate and weight regularization factor (wds):"
   ]
  },
  {
   "cell_type": "code",
   "execution_count": 40,
   "metadata": {
    "scrolled": true
   },
   "outputs": [
    {
     "data": {
      "application/vnd.jupyter.widget-view+json": {
       "model_id": "b3b0ae4af1184ae8a0303c7dce809ae8",
       "version_major": 2,
       "version_minor": 0
      },
      "text/html": [
       "<p>Failed to display Jupyter Widget of type <code>HBox</code>.</p>\n",
       "<p>\n",
       "  If you're reading this message in the Jupyter Notebook or JupyterLab Notebook, it may mean\n",
       "  that the widgets JavaScript is still loading. If this message persists, it\n",
       "  likely means that the widgets JavaScript library is either not installed or\n",
       "  not enabled. See the <a href=\"https://ipywidgets.readthedocs.io/en/stable/user_install.html\">Jupyter\n",
       "  Widgets Documentation</a> for setup instructions.\n",
       "</p>\n",
       "<p>\n",
       "  If you're reading this message in another frontend (for example, a static\n",
       "  rendering on GitHub or <a href=\"https://nbviewer.jupyter.org/\">NBViewer</a>),\n",
       "  it may mean that your frontend doesn't currently support widgets.\n",
       "</p>\n"
      ],
      "text/plain": [
       "HBox(children=(IntProgress(value=0, description='Epoch', max=62), HTML(value='')))"
      ]
     },
     "metadata": {},
     "output_type": "display_data"
    },
    {
     "name": "stdout",
     "output_type": "stream",
     "text": [
      "epoch      trn_loss   val_loss   <lambda>   dice           \n",
      "    0      0.208139   0.248424   0.895799   0.214619  \n",
      "    1      0.169308   0.142241   0.927097   0.642794       \n",
      "    2      0.15474    0.132224   0.93315    0.688262       \n",
      "    3      0.143814   0.132877   0.926706   0.628719       \n",
      "    4      0.135433   0.123494   0.939495   0.727977       \n",
      "    5      0.129649   0.12216    0.937698   0.714808       \n",
      "    6      0.125834   0.119615   0.940444   0.72851        \n",
      "    7      0.122011   0.117839   0.937252   0.705759       \n",
      "    8      0.118119   0.116482   0.936816   0.699009       \n",
      "    9      0.115553   0.110823   0.945426   0.758013       \n",
      "    10     0.112525   0.109484   0.945518   0.755886       \n",
      "    11     0.109834   0.107909   0.945474   0.755379       \n",
      "    12     0.107832   0.107422   0.946509   0.762109       \n",
      "    13     0.106132   0.107321   0.945926   0.758092       \n",
      "    14     0.106262   0.111927   0.940764   0.720948       \n",
      "    15     0.106404   0.108344   0.945496   0.756878       \n",
      "    16     0.10456    0.103524   0.949755   0.776502       \n",
      "    17     0.103021   0.103549   0.950836   0.782752       \n",
      "    18     0.101372   0.102111   0.951253   0.784451       \n",
      "    19     0.099356   0.10012    0.951606   0.785818        \n",
      "    20     0.098942   0.119675   0.935981   0.679069        \n",
      "    21     0.098784   0.103422   0.952697   0.789784        \n",
      "    22     0.096851   0.097871   0.95264    0.789294        \n",
      "    23     0.094738   0.098879   0.949319   0.770557        \n",
      "    24     0.093374   0.096408   0.953413   0.794777        \n",
      "    25     0.092042   0.095682   0.953495   0.79416         \n",
      "    26     0.090979   0.096104   0.95466    0.799522        \n",
      "    27     0.090114   0.094941   0.953773   0.795319        \n",
      "    28     0.089529   0.094998   0.953735   0.795077        \n",
      "    29     0.088691   0.095138   0.954182   0.797054        \n",
      "    30     0.089806   0.1163     0.950942   0.785127        \n",
      "    31     0.09173    0.109285   0.951818   0.787311        \n",
      "    32     0.091751   0.098115   0.949727   0.774733        \n",
      "    33     0.090922   0.095465   0.954568   0.798751        \n",
      "    34     0.090086   0.097157   0.952257   0.788248        \n",
      "    35     0.088922   0.093713   0.953625   0.794043        \n",
      "    36     0.088152   0.095569   0.95193    0.785839        \n",
      "    37     0.087185   0.093383   0.956889   0.809437        \n",
      "    38     0.085803   0.092135   0.956701   0.808452        \n",
      "    39     0.084874   0.091446   0.95467    0.800678        \n",
      "    40     0.083682   0.091284   0.957341   0.811953        \n",
      "    41     0.082302   0.090249   0.956382   0.807726        \n",
      "    42     0.081308   0.089014   0.957353   0.8124          \n",
      "    43     0.080129   0.089156   0.958487   0.816252        \n",
      "    44     0.078909   0.088488   0.956589   0.807855        \n",
      "    45     0.077736   0.087904   0.957024   0.810684        \n",
      "    46     0.076993   0.088365   0.95745    0.811589        \n",
      "    47     0.076568   0.086846   0.958981   0.819696        \n",
      "    48     0.07552    0.087255   0.95875    0.818087        \n",
      "    49     0.074931   0.08632    0.96045    0.825881        \n",
      "    50     0.074034   0.086073   0.959792   0.822988        \n",
      "    51     0.073337   0.086283   0.958189   0.815576        \n",
      "    52     0.072787   0.085414   0.958947   0.819495        \n",
      "    53     0.07182    0.085284   0.960498   0.825891        \n",
      "    54     0.071047   0.085477   0.96065    0.826384        \n",
      "    55     0.070385   0.085002   0.960601   0.826339        \n",
      "    56     0.069946   0.084835   0.96037    0.825322        \n",
      "    57     0.069501   0.084804   0.96023    0.824989        \n",
      "    58     0.069201   0.084602   0.960665   0.826738        \n",
      "    59     0.068849   0.084686   0.960849   0.827319        \n",
      "    60     0.068805   0.084723   0.960856   0.827381        \n",
      "    61     0.068791   0.084766   0.960908   0.827676        \n",
      "\n"
     ]
    },
    {
     "data": {
      "text/plain": [
       "[array([ 0.08477]), 0.96090790719696972, 0.8276757391583589]"
      ]
     },
     "execution_count": 40,
     "metadata": {},
     "output_type": "execute_result"
    }
   ],
   "source": [
    "\n",
    "learn.unfreeze()\n",
    "learn.fit(lrs=[lr/100, lr/10,lr], n_cycle=5, wds=[wd/100, wd/10, wd], use_wd_sched=True, cycle_len=2, cycle_mult=2)"
   ]
  },
  {
   "cell_type": "code",
   "execution_count": 46,
   "metadata": {},
   "outputs": [],
   "source": [
    "learn.save('256urn-wm')"
   ]
  },
  {
   "cell_type": "code",
   "execution_count": 47,
   "metadata": {},
   "outputs": [],
   "source": [
    "learn.load('256urn-wm')\n",
    "x,y = next(iter(md.val_dl))\n",
    "py = to_np(learn.model(V(x)))"
   ]
  },
  {
   "cell_type": "code",
   "execution_count": 48,
   "metadata": {},
   "outputs": [
    {
     "name": "stdout",
     "output_type": "stream",
     "text": [
      "0.6518590053114437\n",
      "0.6707040121120363\n",
      "0.6896957801766438\n",
      "0.7343078245915735\n",
      "0.8186478971150504\n",
      "0.7952783964365256\n",
      "0.8085227004299145\n",
      "0.8098813271978688\n",
      "0.8234596616044146\n",
      "0.831421749918075\n",
      "0.872478386167147\n",
      "0.8967709672810401\n",
      "0.8302285491853417\n",
      "0.7923133776792314\n",
      "0.7833883319843098\n",
      "0.7964523839476664\n"
     ]
    },
    {
     "data": {
      "image/png": "[encoded data removed]",
      "text/plain": [
       "<matplotlib.figure.Figure at 0x7fae2761c908>"
      ]
     },
     "metadata": {},
     "output_type": "display_data"
    }
   ],
   "source": [
    "fig,  axes  =  plt.subplots(4, 4, figsize=(9, 6))\n",
    "\n",
    "for i,ax in enumerate(axes.flat):\n",
    "\n",
    "    pred=py[i]>0\n",
    "    targs=y[i]\n",
    "    show_img(pred, ax=ax)\n",
    "    plt.tight_layout(pad=0.1)\n",
    "#     show_img(pred);\n",
    "#     show_img(targs);\n",
    "#     plt.hist(targs)\n",
    "#     plt.show()\n",
    "\n",
    "    print(2. * (pred*targs).sum() / (pred+targs).sum())"
   ]
  },
  {
   "cell_type": "code",
   "execution_count": 49,
   "metadata": {},
   "outputs": [
    {
     "data": {
      "image/png": "[encoded data removed]",
      "text/plain": [
       "<matplotlib.figure.Figure at 0x7fae2761d6d8>"
      ]
     },
     "metadata": {},
     "output_type": "display_data"
    }
   ],
   "source": [
    "fig,  axes  =  plt.subplots(4, 4, figsize=(9, 6))\n",
    "\n",
    "for i,ax in enumerate(axes.flat):\n",
    "\n",
    "    pred=py[i]>0\n",
    "    targs=y[i]\n",
    "    show_img(targs, ax=ax)\n",
    "    plt.tight_layout(pad=0.1)"
   ]
  },
  {
   "cell_type": "code",
   "execution_count": 50,
   "metadata": {},
   "outputs": [],
   "source": [
    "m.close()"
   ]
  },
  {
   "cell_type": "code",
   "execution_count": null,
   "metadata": {},
   "outputs": [],
   "source": []
  }
 ],
 "metadata": {
  "kernelspec": {
   "display_name": "Python 3",
   "language": "python",
   "name": "python3"
  },
  "language_info": {
   "codemirror_mode": {
    "name": "ipython",
    "version": 3
   },
   "file_extension": ".py",
   "mimetype": "text/x-python",
   "name": "python",
   "nbconvert_exporter": "python",
   "pygments_lexer": "ipython3",
   "version": "3.6.4"
  },
  "toc": {
   "colors": {
    "hover_highlight": "#DAA520",
    "navigate_num": "#000000",
    "navigate_text": "#333333",
    "running_highlight": "#FF0000",
    "selected_highlight": "#FFD700",
    "sidebar_border": "#EEEEEE",
    "wrapper_background": "#FFFFFF"
   },
   "moveMenuLeft": true,
   "nav_menu": {
    "height": "86px",
    "width": "252px"
   },
   "navigate_menu": true,
   "number_sections": true,
   "sideBar": true,
   "threshold": 4,
   "toc_cell": false,
   "toc_section_display": "block",
   "toc_window_display": false,
   "widenNotebook": false
  }
 },
 "nbformat": 4,
 "nbformat_minor": 2
}
