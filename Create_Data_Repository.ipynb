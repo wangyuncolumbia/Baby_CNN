{
 "cells": [
  {
   "cell_type": "markdown",
   "metadata": {},
   "source": [
    "# ECHO baby data play"
   ]
  },
  {
   "cell_type": "code",
   "execution_count": 1,
   "metadata": {},
   "outputs": [],
   "source": [
    "import nilearn\n",
    "\n",
    "import nibabel as nib\n",
    "\n",
    "import os\n",
    "import scipy.misc"
   ]
  },
  {
   "cell_type": "code",
   "execution_count": 5,
   "metadata": {},
   "outputs": [],
   "source": [
    "PATH='/Volumes/Gradient/Personal/yun/Echobay/Mask/WM/'\n",
    "savepath='/Volumes/Gradient/Personal/yun/Echobay/Mask_png/WM/'"
   ]
  },
  {
   "cell_type": "code",
   "execution_count": 6,
   "metadata": {},
   "outputs": [
    {
     "name": "stderr",
     "output_type": "stream",
     "text": [
      "/Users/posnerlab/miniconda3/lib/python3.6/site-packages/ipykernel_launcher.py:9: DeprecationWarning: `imsave` is deprecated!\n",
      "`imsave` is deprecated in SciPy 1.0.0, and will be removed in 1.2.0.\n",
      "Use ``imageio.imwrite`` instead.\n",
      "  if __name__ == '__main__':\n"
     ]
    }
   ],
   "source": [
    "for i in os.listdir(PATH):\n",
    "      #print(os.path.basename(PATH+i))\n",
    "#         print(os.path.splitext(i)[0][0:-4])\n",
    "    ana=nib.load(PATH+i)\n",
    "    anat_img_data = ana.get_fdata()\n",
    "    anat_img_data.shape\n",
    "    savename=savepath+os.path.splitext(i)[0][:-4]+'.jpg'\n",
    "    #print(savename)\n",
    "    scipy.misc.imsave(savename, anat_img_data)\n",
    "\n"
   ]
  },
  {
   "cell_type": "code",
   "execution_count": 14,
   "metadata": {},
   "outputs": [],
   "source": [
    "Org='/Volumes/Gradient/Personal/yun/Echobay/Train/'\n",
    "savepath='/Volumes/Gradient/Personal/yun/Echobay/Train_png/'"
   ]
  },
  {
   "cell_type": "code",
   "execution_count": 15,
   "metadata": {},
   "outputs": [
    {
     "name": "stderr",
     "output_type": "stream",
     "text": [
      "/Users/posnerlab/miniconda3/lib/python3.6/site-packages/ipykernel_launcher.py:9: DeprecationWarning: `imsave` is deprecated!\n",
      "`imsave` is deprecated in SciPy 1.0.0, and will be removed in 1.2.0.\n",
      "Use ``imageio.imwrite`` instead.\n",
      "  if __name__ == '__main__':\n"
     ]
    }
   ],
   "source": [
    "for i in os.listdir(Org):\n",
    "      #print(os.path.basename(PATH+i))\n",
    "#         print(os.path.splitext(i)[0][0:-4])\n",
    "    ana=nib.load(Org+i)\n",
    "    anat_img_data = ana.get_fdata()\n",
    "    anat_img_data.shape\n",
    "    savename=savepath+os.path.splitext(i)[0][:-4]+'.jpg'\n",
    "    #print(savename)\n",
    "    scipy.misc.imsave(savename, anat_img_data)\n",
    "\n"
   ]
  },
  {
   "cell_type": "code",
   "execution_count": 16,
   "metadata": {},
   "outputs": [],
   "source": [
    "ID='/Volumes/Gradient/Personal/yun/Echobay/Data/Train_png'"
   ]
  },
  {
   "cell_type": "code",
   "execution_count": 17,
   "metadata": {},
   "outputs": [],
   "source": [
    "II=[i for i in os.listdir(ID)]"
   ]
  },
  {
   "cell_type": "code",
   "execution_count": 19,
   "metadata": {},
   "outputs": [],
   "source": [
    "import pandas as pd"
   ]
  },
  {
   "cell_type": "code",
   "execution_count": 27,
   "metadata": {},
   "outputs": [],
   "source": [
    "I=pd.DataFrame(II,columns=['ID'])"
   ]
  },
  {
   "cell_type": "code",
   "execution_count": null,
   "metadata": {},
   "outputs": [],
   "source": [
    "I.to_excel('image_index.')"
   ]
  }
 ],
 "metadata": {
  "kernelspec": {
   "display_name": "Python 3",
   "language": "python",
   "name": "python3"
  },
  "language_info": {
   "codemirror_mode": {
    "name": "ipython",
    "version": 3
   },
   "file_extension": ".py",
   "mimetype": "text/x-python",
   "name": "python",
   "nbconvert_exporter": "python",
   "pygments_lexer": "ipython3",
   "version": "3.6.3"
  }
 },
 "nbformat": 4,
 "nbformat_minor": 2
}
